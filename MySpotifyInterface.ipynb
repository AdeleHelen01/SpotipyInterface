{
 "cells": [
  {
   "cell_type": "code",
   "execution_count": 97,
   "id": "d57a4d18",
   "metadata": {},
   "outputs": [],
   "source": [
    "import spotipy\n",
    "import json\n",
    "import webbrowser\n",
    "import pandas as pd"
   ]
  },
  {
   "cell_type": "code",
   "execution_count": 98,
   "id": "37ddebcc",
   "metadata": {},
   "outputs": [],
   "source": [
    "import urllib.request\n",
    "import spotipy.util as util"
   ]
  },
  {
   "cell_type": "code",
   "execution_count": 99,
   "id": "43fce1ac",
   "metadata": {},
   "outputs": [],
   "source": [
    "# copy and paste the url into your browser to see what data you are getting back\n",
    "request = urllib.request.Request(\"https://weatherdbi.herokuapp.com/data/weather/lagos\")\n",
    "response = urllib.request.urlopen(request)"
   ]
  },
  {
   "cell_type": "code",
   "execution_count": 100,
   "id": "58fb9148",
   "metadata": {},
   "outputs": [],
   "source": [
    "weather = json.loads(response.read())"
   ]
  },
  {
   "cell_type": "code",
   "execution_count": 101,
   "id": "ca93a826",
   "metadata": {},
   "outputs": [
    {
     "name": "stdout",
     "output_type": "stream",
     "text": [
      "{'region': 'Lagos, Nigeria', 'currentConditions': {'dayhour': 'Wednesday 5:00 PM', 'temp': {'c': 30, 'f': 86}, 'precip': '2%', 'humidity': '72%', 'wind': {'km': 13, 'mile': 8}, 'iconURL': 'https://ssl.gstatic.com/onebox/weather/64/partly_cloudy.png', 'comment': 'Partly cloudy'}, 'next_days': [{'day': 'Wednesday', 'comment': 'Partly cloudy', 'max_temp': {'c': 32, 'f': 89}, 'min_temp': {'c': 23, 'f': 74}, 'iconURL': 'https://ssl.gstatic.com/onebox/weather/48/partly_cloudy.png'}, {'day': 'Thursday', 'comment': 'Partly cloudy', 'max_temp': {'c': 33, 'f': 92}, 'min_temp': {'c': 24, 'f': 75}, 'iconURL': 'https://ssl.gstatic.com/onebox/weather/48/partly_cloudy.png'}, {'day': 'Friday', 'comment': 'Mostly sunny', 'max_temp': {'c': 33, 'f': 91}, 'min_temp': {'c': 24, 'f': 76}, 'iconURL': 'https://ssl.gstatic.com/onebox/weather/48/partly_cloudy.png'}, {'day': 'Saturday', 'comment': 'Partly cloudy', 'max_temp': {'c': 32, 'f': 90}, 'min_temp': {'c': 24, 'f': 76}, 'iconURL': 'https://ssl.gstatic.com/onebox/weather/48/partly_cloudy.png'}, {'day': 'Sunday', 'comment': 'Isolated thunderstorms', 'max_temp': {'c': 32, 'f': 89}, 'min_temp': {'c': 24, 'f': 75}, 'iconURL': 'https://ssl.gstatic.com/onebox/weather/48/rain_s_cloudy.png'}, {'day': 'Monday', 'comment': 'Scattered thunderstorms', 'max_temp': {'c': 31, 'f': 88}, 'min_temp': {'c': 24, 'f': 76}, 'iconURL': 'https://ssl.gstatic.com/onebox/weather/48/rain_s_cloudy.png'}, {'day': 'Tuesday', 'comment': 'Scattered thunderstorms', 'max_temp': {'c': 32, 'f': 89}, 'min_temp': {'c': 24, 'f': 75}, 'iconURL': 'https://ssl.gstatic.com/onebox/weather/48/rain_s_cloudy.png'}, {'day': 'Wednesday', 'comment': 'Scattered thunderstorms', 'max_temp': {'c': 32, 'f': 90}, 'min_temp': {'c': 24, 'f': 76}, 'iconURL': 'https://ssl.gstatic.com/onebox/weather/48/rain_s_cloudy.png'}], 'contact_author': {'email': 'communication.with.users@gmail.com', 'auth_note': 'Mail me for feature requests, improvement, bug, help, ect... Please tell me if you want me to provide any other free easy-to-use API services'}, 'data_source': 'https://www.google.com/search?lr=lang_en&q=weather+in+lagos'}\n"
     ]
    }
   ],
   "source": [
    "print(weather)"
   ]
  },
  {
   "cell_type": "code",
   "execution_count": 102,
   "id": "4e9664e0",
   "metadata": {},
   "outputs": [],
   "source": [
    "forecast = weather[\"currentConditions\"][\"comment\"]"
   ]
  },
  {
   "cell_type": "code",
   "execution_count": 103,
   "id": "3a3f2932",
   "metadata": {},
   "outputs": [
    {
     "data": {
      "text/plain": [
       "'Partly cloudy'"
      ]
     },
     "execution_count": 103,
     "metadata": {},
     "output_type": "execute_result"
    }
   ],
   "source": [
    "forecast"
   ]
  },
  {
   "cell_type": "code",
   "execution_count": 104,
   "id": "0e6befe2",
   "metadata": {},
   "outputs": [],
   "source": [
    "# open file with keys and set the path to your credentials JSON file\n",
    "credentials = \"spotify_keys.json\"\n",
    "with open(credentials, \"r\") as keys:\n",
    "    api_tokens = json.load(keys)"
   ]
  },
  {
   "cell_type": "code",
   "execution_count": 105,
   "id": "de4d32b4",
   "metadata": {},
   "outputs": [],
   "source": [
    "# read the keys and assign each to a variable\n",
    "# A redirect URI, or reply URL, is the location where the authorization server sends the user once the app has been \n",
    "# successfully authorized and granted an authorization code or access token.\n",
    "client_id = api_tokens[\"client_id\"]\n",
    "client_secret = api_tokens[\"client_secret\"]\n",
    "redirectURI = api_tokens[\"redirect\"]\n",
    "username = api_tokens[\"username\"]"
   ]
  },
  {
   "cell_type": "code",
   "execution_count": 106,
   "id": "fef9e85a",
   "metadata": {},
   "outputs": [
    {
     "name": "stdout",
     "output_type": "stream",
     "text": [
      "Enter the URL you were redirected to: https://www.google.com/?code=AQAsb6l10k77_f2JKCjj0ONXS1tckGjkhytCa3fpIwFBFeAX8RwES8y36UHr2rhtUdAgC2gWKDkWySJoaXotJecqjhi1ULVBtKquyETZmUxMYYxQlaKjfqHBP3fcGasK_mjTrFq3Teh4CmmM6HMgamGNK9JnkuT-mQMZS2jYlE2Zj1EfpJE6ZiJ3doU49u0AXs2iO3GKt_2c7wdnBT70Q5X1wUbpf1zyerAAJh__DdkYjKMbJK11DjEz84OiNnDDi6lkEjgWsnvJNpWd551sLOw7eeTtMbY\n"
     ]
    }
   ],
   "source": [
    "scope = 'user-read-private user-read-playback-state user-modify-playback-state playlist-modify-public'\n",
    "token = util.prompt_for_user_token(username, scope, client_id=client_id,\n",
    "                           client_secret=client_secret,\n",
    "                           redirect_uri=redirectURI)"
   ]
  },
  {
   "cell_type": "code",
   "execution_count": 107,
   "id": "c66a9a0e",
   "metadata": {},
   "outputs": [
    {
     "name": "stdout",
     "output_type": "stream",
     "text": [
      "BQCU_6qWDGhTtM-DxmXghooVSBbu8kvbknT0dqMdWTi1F-mnmVVh3x6EWB5f20SB1MPLOYSBYnNtxeZzClvQIjpPJfXdA97hKmyjBJI1OONOvkYvPjCVo_kaeZYmNhGrSsM2-XJ7rNChngSw4dHY4CM31naTCpfI-_kJEAYV8Lqkyz9hxOzmnmNaa8ezjkU9fmQ-R55dTgn4BphDo_zevjyD16x_Lg\n"
     ]
    }
   ],
   "source": [
    "print(token)"
   ]
  },
  {
   "cell_type": "code",
   "execution_count": 108,
   "id": "eaa88984",
   "metadata": {},
   "outputs": [],
   "source": [
    "# Create OAuth Object\n",
    "# oauth_object = spotipy.SpotifyOAuth(client_id, client_secret, redirectURI)\n",
    "# Create token\n",
    "# token_dict = oauth_object.get_cached_token()\n",
    "# token = token_dict['access_token']\n",
    "# print(token_dict)\n",
    "# Create Spotify Object\n",
    "sp = spotipy.Spotify(auth=token)"
   ]
  },
  {
   "cell_type": "code",
   "execution_count": 109,
   "id": "f707971e",
   "metadata": {},
   "outputs": [
    {
     "name": "stdout",
     "output_type": "stream",
     "text": [
      "{'devices': [{'id': '277691b6377ea98be58f4ce2d5897a1ee4357a9e', 'is_active': True, 'is_private_session': False, 'is_restricted': False, 'name': 'iPhone', 'type': 'Smartphone', 'volume_percent': 100}, {'id': '5671f1ab049cc8dc5b65403c6208fb41d57d6098', 'is_active': False, 'is_private_session': False, 'is_restricted': False, 'name': 'Moremi’s MacBook Air', 'type': 'Computer', 'volume_percent': 68}, {'id': 'c53165541acd2f52e8f07a8a77013b2dcf858c47', 'is_active': False, 'is_private_session': False, 'is_restricted': False, 'name': 'Arike’s MacBook Air', 'type': 'Computer', 'volume_percent': 94}]}\n"
     ]
    }
   ],
   "source": [
    "devices = sp.devices()\n",
    "print(devices)\n",
    "deviceID = devices['devices'][0]['id']"
   ]
  },
  {
   "cell_type": "code",
   "execution_count": 110,
   "id": "b18a148d",
   "metadata": {},
   "outputs": [],
   "source": [
    "# learn about more query strings for spotify here: https://developer.spotify.com/documentation/web-api/reference/#/operations/search\n",
    "track_results = sp.search(q=forecast, type='track', limit=50)"
   ]
  },
  {
   "cell_type": "code",
   "execution_count": 111,
   "id": "53ca898c",
   "metadata": {},
   "outputs": [],
   "source": [
    "tracks = track_results['tracks']['items']"
   ]
  },
  {
   "cell_type": "code",
   "execution_count": 112,
   "id": "78c0523a",
   "metadata": {},
   "outputs": [
    {
     "data": {
      "text/plain": [
       "{'album': {'album_type': 'album',\n",
       "  'artists': [{'external_urls': {'spotify': 'https://open.spotify.com/artist/5aL7sOIxn0GV0JoFGdONT6'},\n",
       "    'href': 'https://api.spotify.com/v1/artists/5aL7sOIxn0GV0JoFGdONT6',\n",
       "    'id': '5aL7sOIxn0GV0JoFGdONT6',\n",
       "    'name': 'Silver Maple',\n",
       "    'type': 'artist',\n",
       "    'uri': 'spotify:artist:5aL7sOIxn0GV0JoFGdONT6'}],\n",
       "  'available_markets': ['AD',\n",
       "   'AE',\n",
       "   'AG',\n",
       "   'AL',\n",
       "   'AM',\n",
       "   'AO',\n",
       "   'AR',\n",
       "   'AT',\n",
       "   'AU',\n",
       "   'AZ',\n",
       "   'BA',\n",
       "   'BB',\n",
       "   'BD',\n",
       "   'BE',\n",
       "   'BF',\n",
       "   'BG',\n",
       "   'BH',\n",
       "   'BI',\n",
       "   'BJ',\n",
       "   'BN',\n",
       "   'BO',\n",
       "   'BR',\n",
       "   'BS',\n",
       "   'BT',\n",
       "   'BW',\n",
       "   'BY',\n",
       "   'BZ',\n",
       "   'CA',\n",
       "   'CD',\n",
       "   'CG',\n",
       "   'CH',\n",
       "   'CI',\n",
       "   'CL',\n",
       "   'CM',\n",
       "   'CO',\n",
       "   'CR',\n",
       "   'CV',\n",
       "   'CW',\n",
       "   'CY',\n",
       "   'CZ',\n",
       "   'DE',\n",
       "   'DJ',\n",
       "   'DK',\n",
       "   'DM',\n",
       "   'DO',\n",
       "   'DZ',\n",
       "   'EC',\n",
       "   'EE',\n",
       "   'EG',\n",
       "   'ES',\n",
       "   'FI',\n",
       "   'FJ',\n",
       "   'FM',\n",
       "   'FR',\n",
       "   'GA',\n",
       "   'GB',\n",
       "   'GD',\n",
       "   'GE',\n",
       "   'GH',\n",
       "   'GM',\n",
       "   'GN',\n",
       "   'GQ',\n",
       "   'GR',\n",
       "   'GT',\n",
       "   'GW',\n",
       "   'GY',\n",
       "   'HK',\n",
       "   'HN',\n",
       "   'HR',\n",
       "   'HT',\n",
       "   'HU',\n",
       "   'ID',\n",
       "   'IE',\n",
       "   'IL',\n",
       "   'IN',\n",
       "   'IQ',\n",
       "   'IS',\n",
       "   'IT',\n",
       "   'JM',\n",
       "   'JO',\n",
       "   'JP',\n",
       "   'KE',\n",
       "   'KG',\n",
       "   'KH',\n",
       "   'KI',\n",
       "   'KM',\n",
       "   'KN',\n",
       "   'KR',\n",
       "   'KW',\n",
       "   'KZ',\n",
       "   'LA',\n",
       "   'LB',\n",
       "   'LC',\n",
       "   'LI',\n",
       "   'LK',\n",
       "   'LR',\n",
       "   'LS',\n",
       "   'LT',\n",
       "   'LU',\n",
       "   'LV',\n",
       "   'LY',\n",
       "   'MA',\n",
       "   'MC',\n",
       "   'MD',\n",
       "   'ME',\n",
       "   'MG',\n",
       "   'MH',\n",
       "   'MK',\n",
       "   'ML',\n",
       "   'MN',\n",
       "   'MO',\n",
       "   'MR',\n",
       "   'MT',\n",
       "   'MU',\n",
       "   'MV',\n",
       "   'MW',\n",
       "   'MX',\n",
       "   'MY',\n",
       "   'MZ',\n",
       "   'NA',\n",
       "   'NE',\n",
       "   'NG',\n",
       "   'NI',\n",
       "   'NL',\n",
       "   'NO',\n",
       "   'NP',\n",
       "   'NR',\n",
       "   'NZ',\n",
       "   'OM',\n",
       "   'PA',\n",
       "   'PE',\n",
       "   'PG',\n",
       "   'PH',\n",
       "   'PK',\n",
       "   'PL',\n",
       "   'PS',\n",
       "   'PT',\n",
       "   'PW',\n",
       "   'PY',\n",
       "   'QA',\n",
       "   'RO',\n",
       "   'RS',\n",
       "   'RW',\n",
       "   'SA',\n",
       "   'SB',\n",
       "   'SC',\n",
       "   'SE',\n",
       "   'SG',\n",
       "   'SI',\n",
       "   'SK',\n",
       "   'SL',\n",
       "   'SM',\n",
       "   'SN',\n",
       "   'SR',\n",
       "   'ST',\n",
       "   'SV',\n",
       "   'SZ',\n",
       "   'TD',\n",
       "   'TG',\n",
       "   'TH',\n",
       "   'TJ',\n",
       "   'TL',\n",
       "   'TN',\n",
       "   'TO',\n",
       "   'TR',\n",
       "   'TT',\n",
       "   'TV',\n",
       "   'TW',\n",
       "   'TZ',\n",
       "   'UA',\n",
       "   'UG',\n",
       "   'US',\n",
       "   'UY',\n",
       "   'UZ',\n",
       "   'VC',\n",
       "   'VE',\n",
       "   'VN',\n",
       "   'VU',\n",
       "   'WS',\n",
       "   'XK',\n",
       "   'ZA',\n",
       "   'ZM',\n",
       "   'ZW'],\n",
       "  'external_urls': {'spotify': 'https://open.spotify.com/album/7xQ1rPbeUkKIDufhz2JY1B'},\n",
       "  'href': 'https://api.spotify.com/v1/albums/7xQ1rPbeUkKIDufhz2JY1B',\n",
       "  'id': '7xQ1rPbeUkKIDufhz2JY1B',\n",
       "  'images': [{'height': 640,\n",
       "    'url': 'https://i.scdn.co/image/ab67616d0000b2736791c2423219e3dade5b7a72',\n",
       "    'width': 640},\n",
       "   {'height': 300,\n",
       "    'url': 'https://i.scdn.co/image/ab67616d00001e026791c2423219e3dade5b7a72',\n",
       "    'width': 300},\n",
       "   {'height': 64,\n",
       "    'url': 'https://i.scdn.co/image/ab67616d000048516791c2423219e3dade5b7a72',\n",
       "    'width': 64}],\n",
       "  'name': 'Partly Cloudy',\n",
       "  'release_date': '2016-06-17',\n",
       "  'release_date_precision': 'day',\n",
       "  'total_tracks': 7,\n",
       "  'type': 'album',\n",
       "  'uri': 'spotify:album:7xQ1rPbeUkKIDufhz2JY1B'},\n",
       " 'artists': [{'external_urls': {'spotify': 'https://open.spotify.com/artist/5aL7sOIxn0GV0JoFGdONT6'},\n",
       "   'href': 'https://api.spotify.com/v1/artists/5aL7sOIxn0GV0JoFGdONT6',\n",
       "   'id': '5aL7sOIxn0GV0JoFGdONT6',\n",
       "   'name': 'Silver Maple',\n",
       "   'type': 'artist',\n",
       "   'uri': 'spotify:artist:5aL7sOIxn0GV0JoFGdONT6'}],\n",
       " 'available_markets': ['AD',\n",
       "  'AE',\n",
       "  'AG',\n",
       "  'AL',\n",
       "  'AM',\n",
       "  'AO',\n",
       "  'AR',\n",
       "  'AT',\n",
       "  'AU',\n",
       "  'AZ',\n",
       "  'BA',\n",
       "  'BB',\n",
       "  'BD',\n",
       "  'BE',\n",
       "  'BF',\n",
       "  'BG',\n",
       "  'BH',\n",
       "  'BI',\n",
       "  'BJ',\n",
       "  'BN',\n",
       "  'BO',\n",
       "  'BR',\n",
       "  'BS',\n",
       "  'BT',\n",
       "  'BW',\n",
       "  'BY',\n",
       "  'BZ',\n",
       "  'CA',\n",
       "  'CD',\n",
       "  'CG',\n",
       "  'CH',\n",
       "  'CI',\n",
       "  'CL',\n",
       "  'CM',\n",
       "  'CO',\n",
       "  'CR',\n",
       "  'CV',\n",
       "  'CW',\n",
       "  'CY',\n",
       "  'CZ',\n",
       "  'DE',\n",
       "  'DJ',\n",
       "  'DK',\n",
       "  'DM',\n",
       "  'DO',\n",
       "  'DZ',\n",
       "  'EC',\n",
       "  'EE',\n",
       "  'EG',\n",
       "  'ES',\n",
       "  'FI',\n",
       "  'FJ',\n",
       "  'FM',\n",
       "  'FR',\n",
       "  'GA',\n",
       "  'GB',\n",
       "  'GD',\n",
       "  'GE',\n",
       "  'GH',\n",
       "  'GM',\n",
       "  'GN',\n",
       "  'GQ',\n",
       "  'GR',\n",
       "  'GT',\n",
       "  'GW',\n",
       "  'GY',\n",
       "  'HK',\n",
       "  'HN',\n",
       "  'HR',\n",
       "  'HT',\n",
       "  'HU',\n",
       "  'ID',\n",
       "  'IE',\n",
       "  'IL',\n",
       "  'IN',\n",
       "  'IQ',\n",
       "  'IS',\n",
       "  'IT',\n",
       "  'JM',\n",
       "  'JO',\n",
       "  'JP',\n",
       "  'KE',\n",
       "  'KG',\n",
       "  'KH',\n",
       "  'KI',\n",
       "  'KM',\n",
       "  'KN',\n",
       "  'KR',\n",
       "  'KW',\n",
       "  'KZ',\n",
       "  'LA',\n",
       "  'LB',\n",
       "  'LC',\n",
       "  'LI',\n",
       "  'LK',\n",
       "  'LR',\n",
       "  'LS',\n",
       "  'LT',\n",
       "  'LU',\n",
       "  'LV',\n",
       "  'LY',\n",
       "  'MA',\n",
       "  'MC',\n",
       "  'MD',\n",
       "  'ME',\n",
       "  'MG',\n",
       "  'MH',\n",
       "  'MK',\n",
       "  'ML',\n",
       "  'MN',\n",
       "  'MO',\n",
       "  'MR',\n",
       "  'MT',\n",
       "  'MU',\n",
       "  'MV',\n",
       "  'MW',\n",
       "  'MX',\n",
       "  'MY',\n",
       "  'MZ',\n",
       "  'NA',\n",
       "  'NE',\n",
       "  'NG',\n",
       "  'NI',\n",
       "  'NL',\n",
       "  'NO',\n",
       "  'NP',\n",
       "  'NR',\n",
       "  'NZ',\n",
       "  'OM',\n",
       "  'PA',\n",
       "  'PE',\n",
       "  'PG',\n",
       "  'PH',\n",
       "  'PK',\n",
       "  'PL',\n",
       "  'PS',\n",
       "  'PT',\n",
       "  'PW',\n",
       "  'PY',\n",
       "  'QA',\n",
       "  'RO',\n",
       "  'RS',\n",
       "  'RW',\n",
       "  'SA',\n",
       "  'SB',\n",
       "  'SC',\n",
       "  'SE',\n",
       "  'SG',\n",
       "  'SI',\n",
       "  'SK',\n",
       "  'SL',\n",
       "  'SM',\n",
       "  'SN',\n",
       "  'SR',\n",
       "  'ST',\n",
       "  'SV',\n",
       "  'SZ',\n",
       "  'TD',\n",
       "  'TG',\n",
       "  'TH',\n",
       "  'TJ',\n",
       "  'TL',\n",
       "  'TN',\n",
       "  'TO',\n",
       "  'TR',\n",
       "  'TT',\n",
       "  'TV',\n",
       "  'TW',\n",
       "  'TZ',\n",
       "  'UA',\n",
       "  'UG',\n",
       "  'US',\n",
       "  'UY',\n",
       "  'UZ',\n",
       "  'VC',\n",
       "  'VE',\n",
       "  'VN',\n",
       "  'VU',\n",
       "  'WS',\n",
       "  'XK',\n",
       "  'ZA',\n",
       "  'ZM',\n",
       "  'ZW'],\n",
       " 'disc_number': 1,\n",
       " 'duration_ms': 143180,\n",
       " 'explicit': False,\n",
       " 'external_ids': {'isrc': 'SE5Q51701052'},\n",
       " 'external_urls': {'spotify': 'https://open.spotify.com/track/3eDLVjBYpqHBLoGgY5IOkx'},\n",
       " 'href': 'https://api.spotify.com/v1/tracks/3eDLVjBYpqHBLoGgY5IOkx',\n",
       " 'id': '3eDLVjBYpqHBLoGgY5IOkx',\n",
       " 'is_local': False,\n",
       " 'name': 'Partly Cloudy',\n",
       " 'popularity': 40,\n",
       " 'preview_url': 'https://p.scdn.co/mp3-preview/660d98ee1c638f9928344d9c23382f593303fc23?cid=b1786b14d0fa4cca953b746638d62c51',\n",
       " 'track_number': 2,\n",
       " 'type': 'track',\n",
       " 'uri': 'spotify:track:3eDLVjBYpqHBLoGgY5IOkx'}"
      ]
     },
     "execution_count": 112,
     "metadata": {},
     "output_type": "execute_result"
    }
   ],
   "source": [
    "tracks[0]"
   ]
  },
  {
   "cell_type": "code",
   "execution_count": 113,
   "id": "d12ae81d",
   "metadata": {},
   "outputs": [],
   "source": [
    "# URI = uniform resource identifier\n",
    "track_selection_list = []\n",
    "track_art = []\n",
    "\n",
    "for song in tracks:\n",
    "    track_selection_list.append(song['uri'])\n",
    "    track_art.append(song['album']['images'][0]['url'])"
   ]
  },
  {
   "cell_type": "code",
   "execution_count": 114,
   "id": "cd3dca7e",
   "metadata": {},
   "outputs": [
    {
     "name": "stdout",
     "output_type": "stream",
     "text": [
      "{'snapshot_id': 'Myw4MGRiMTkxZWEzMDhhMjE4MzRiMmJmNzY5NDZkNDgwNjY1MzRlZTgw'}\n"
     ]
    }
   ],
   "source": [
    "my_playlist = sp.user_playlist_create(user=username, name=forecast, public=True,\n",
    "                                      description=\"Songs for the weather\")\n",
    "results = sp.user_playlist_add_tracks(username, my_playlist['id'], track_selection_list)\n",
    "print(results)"
   ]
  },
  {
   "cell_type": "code",
   "execution_count": 115,
   "id": "a8b71375",
   "metadata": {},
   "outputs": [
    {
     "name": "stdout",
     "output_type": "stream",
     "text": [
      "{'collaborative': False, 'description': 'Songs for the weather', 'external_urls': {'spotify': 'https://open.spotify.com/playlist/2wjlP2xBkMTOiq3h9CipXr'}, 'followers': {'href': None, 'total': 0}, 'href': 'https://api.spotify.com/v1/playlists/2wjlP2xBkMTOiq3h9CipXr', 'id': '2wjlP2xBkMTOiq3h9CipXr', 'images': [], 'name': 'Partly cloudy', 'owner': {'display_name': 'moremiarikebajo', 'external_urls': {'spotify': 'https://open.spotify.com/user/ifegal'}, 'href': 'https://api.spotify.com/v1/users/ifegal', 'id': 'ifegal', 'type': 'user', 'uri': 'spotify:user:ifegal'}, 'primary_color': None, 'public': True, 'snapshot_id': 'MSxmZTY0YTIxMTA2NmVkZDI3M2M0YzdlZmU4NTJhOTg0NzEzNDU4NjQ0', 'tracks': {'href': 'https://api.spotify.com/v1/playlists/2wjlP2xBkMTOiq3h9CipXr/tracks', 'items': [], 'limit': 100, 'next': None, 'offset': 0, 'previous': None, 'total': 0}, 'type': 'playlist', 'uri': 'spotify:playlist:2wjlP2xBkMTOiq3h9CipXr'}\n"
     ]
    }
   ],
   "source": [
    "print(my_playlist)"
   ]
  },
  {
   "cell_type": "code",
   "execution_count": 116,
   "id": "43e05fe0",
   "metadata": {},
   "outputs": [
    {
     "data": {
      "text/plain": [
       "True"
      ]
     },
     "execution_count": 116,
     "metadata": {},
     "output_type": "execute_result"
    }
   ],
   "source": [
    "# sp.start_playback(deviceID, None, track_selection_list)\n",
    "webbrowser.open(my_playlist['external_urls']['spotify'])"
   ]
  },
  {
   "cell_type": "code",
   "execution_count": null,
   "id": "26e43a91",
   "metadata": {},
   "outputs": [],
   "source": []
  }
 ],
 "metadata": {
  "kernelspec": {
   "display_name": "Python 3 (ipykernel)",
   "language": "python",
   "name": "python3"
  },
  "language_info": {
   "codemirror_mode": {
    "name": "ipython",
    "version": 3
   },
   "file_extension": ".py",
   "mimetype": "text/x-python",
   "name": "python",
   "nbconvert_exporter": "python",
   "pygments_lexer": "ipython3",
   "version": "3.11.0"
  }
 },
 "nbformat": 4,
 "nbformat_minor": 5
}
