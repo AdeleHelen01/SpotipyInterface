{
 "cells": [
  {
   "cell_type": "code",
   "execution_count": 4,
   "id": "545996c5",
   "metadata": {},
   "outputs": [],
   "source": [
    "import urllib.request\n",
    "import json"
   ]
  },
  {
   "cell_type": "code",
   "execution_count": 7,
   "id": "5f59cf08",
   "metadata": {},
   "outputs": [],
   "source": [
    "request = urllib. request. Request('http://api.open-notify.org/iss-now.json')\n",
    "response=urllib.request.urlopen(request)"
   ]
  },
  {
   "cell_type": "code",
   "execution_count": 9,
   "id": "0a2090d1",
   "metadata": {},
   "outputs": [],
   "source": [
    "iss_dict =json.loads(response.read())"
   ]
  },
  {
   "cell_type": "code",
   "execution_count": null,
   "id": "4aff8410",
   "metadata": {},
   "outputs": [],
   "source": []
  }
 ],
 "metadata": {
  "kernelspec": {
   "display_name": "Python 3 (ipykernel)",
   "language": "python",
   "name": "python3"
  },
  "language_info": {
   "codemirror_mode": {
    "name": "ipython",
    "version": 3
   },
   "file_extension": ".py",
   "mimetype": "text/x-python",
   "name": "python",
   "nbconvert_exporter": "python",
   "pygments_lexer": "ipython3",
   "version": "3.11.0"
  }
 },
 "nbformat": 4,
 "nbformat_minor": 5
}
