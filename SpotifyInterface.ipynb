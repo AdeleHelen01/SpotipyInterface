{
 "cells": [
  {
   "cell_type": "code",
   "execution_count": 25,
   "id": "c4724ff4",
   "metadata": {},
   "outputs": [],
   "source": [
    "import spotipy\n",
    "import json\n",
    "import webbrowser"
   ]
  },
  {
   "cell_type": "code",
   "execution_count": 26,
   "id": "a351fe95",
   "metadata": {},
   "outputs": [],
   "source": [
    "# open file with keys and set the path to your credentials JSON file\n",
    "credentials = \"spotify_keys.json\"\n",
    "with open(credentials, \"r\") as keys:\n",
    "    api_tokens = json.load(keys)"
   ]
  },
  {
   "cell_type": "code",
   "execution_count": 27,
   "id": "13804ef7",
   "metadata": {},
   "outputs": [],
   "source": [
    "# read the keys and assign each to a variable\n",
    "# A redirect URI, or reply URL, is the location where the authorization server sends the user once the app has been \n",
    "# successfully authorized and granted an authorization code or access token.\n",
    "client_id = api_tokens[\"client_id\"]\n",
    "client_secret = api_tokens[\"client_secret\"]\n",
    "redirectURI = api_tokens[\"redirect\"]\n",
    "username = api_tokens[\"username\"]"
   ]
  },
  {
   "cell_type": "code",
   "execution_count": 28,
   "id": "0aaf820a",
   "metadata": {},
   "outputs": [
    {
     "data": {
      "text/plain": [
       "'http://google.com/'"
      ]
     },
     "execution_count": 28,
     "metadata": {},
     "output_type": "execute_result"
    }
   ],
   "source": [
    "redirectURI"
   ]
  },
  {
   "cell_type": "code",
   "execution_count": null,
   "id": "3cd3e14c",
   "metadata": {},
   "outputs": [
    {
     "name": "stderr",
     "output_type": "stream",
     "text": [
      "C:\\Users\\adele\\AppData\\Local\\Temp\\ipykernel_31948\\2131995668.py:4: DeprecationWarning: You're using 'as_dict = True'.get_access_token will return the token string directly in future versions. Please adjust your code accordingly, or use get_cached_token instead.\n",
      "  token_dict = oauth_object.get_access_token()\n"
     ]
    }
   ],
   "source": [
    "# Create OAuth Object\n",
    "oauth_object = spotipy.SpotifyOAuth(client_id, client_secret, redirectURI)\n",
    "# Create token\n",
    "token_dict = oauth_object.get_access_token()\n",
    "token = token_dict['access_token']\n",
    "# Create Spotify Object\n",
    "spotifyObject = spotipy.Spotify(auth=token)"
   ]
  },
  {
   "cell_type": "code",
   "execution_count": null,
   "id": "078757a1",
   "metadata": {},
   "outputs": [],
   "source": [
    "user = spotifyObject.current_user()"
   ]
  },
  {
   "cell_type": "code",
   "execution_count": null,
   "id": "3f97c8c8",
   "metadata": {},
   "outputs": [],
   "source": [
    "track_results = spotifyObject.search(q='year:2021', type='track', limit=50)"
   ]
  },
  {
   "cell_type": "code",
   "execution_count": null,
   "id": "ee5e8e28",
   "metadata": {},
   "outputs": [],
   "source": [
    "first_song = track_results['tracks']['items'][0]"
   ]
  },
  {
   "cell_type": "code",
   "execution_count": null,
   "id": "b5ea928f",
   "metadata": {},
   "outputs": [],
   "source": [
    "True"
   ]
  },
  {
   "cell_type": "code",
   "execution_count": null,
   "id": "40ebc6e1",
   "metadata": {},
   "outputs": [],
   "source": [
    "print(first_song)"
   ]
  },
  {
   "cell_type": "code",
   "execution_count": null,
   "id": "27120702",
   "metadata": {},
   "outputs": [],
   "source": [
    "# Open the Song in Web Browser\n",
    "webbrowser.open(first_song['external_urls']['spotify'])"
   ]
  }
 ],
 "metadata": {
  "kernelspec": {
   "display_name": "Python 3 (ipykernel)",
   "language": "python",
   "name": "python3"
  },
  "language_info": {
   "codemirror_mode": {
    "name": "ipython",
    "version": 3
   },
   "file_extension": ".py",
   "mimetype": "text/x-python",
   "name": "python",
   "nbconvert_exporter": "python",
   "pygments_lexer": "ipython3",
   "version": "3.11.0"
  }
 },
 "nbformat": 4,
 "nbformat_minor": 5
}
