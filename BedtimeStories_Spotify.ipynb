{
 "cells": [
  {
   "cell_type": "code",
   "execution_count": 32,
   "id": "d57a4d18",
   "metadata": {},
   "outputs": [],
   "source": [
    "import spotipy\n",
    "import json\n",
    "import webbrowser\n",
    "import urllib.request\n",
    "import spotipy.util as util\n",
    "import sys"
   ]
  },
  {
   "cell_type": "code",
   "execution_count": 33,
   "id": "9b9c162a",
   "metadata": {},
   "outputs": [],
   "source": [
    "\n",
    "from spotipy.oauth2 import SpotifyClientCredentials\n",
    "import json"
   ]
  },
  {
   "cell_type": "code",
   "execution_count": 34,
   "id": "37ddebcc",
   "metadata": {},
   "outputs": [],
   "source": [
    "import urllib.request\n",
    "import spotipy.util as util"
   ]
  },
  {
   "cell_type": "code",
   "execution_count": 35,
   "id": "e16af7a2",
   "metadata": {},
   "outputs": [],
   "source": [
    "# copy and paste the url into your browser to see what data you are getting back\n",
    "request = urllib.request.Request('http://api.tvmaze.com/search/shows?q=golden%20girls')\n",
    "response = urllib.request.urlopen(request)"
   ]
  },
  {
   "cell_type": "code",
   "execution_count": 36,
   "id": "d754b8a7",
   "metadata": {
    "scrolled": true
   },
   "outputs": [
    {
     "data": {
      "text/plain": [
       "http.client.HTTPResponse"
      ]
     },
     "execution_count": 36,
     "metadata": {},
     "output_type": "execute_result"
    }
   ],
   "source": [
    "type(response)"
   ]
  },
  {
   "cell_type": "code",
   "execution_count": 37,
   "id": "71f53517",
   "metadata": {},
   "outputs": [],
   "source": [
    "#convert this into a python dict\n",
    "tvshow =json.loads(response.read())"
   ]
  },
  {
   "cell_type": "code",
   "execution_count": 38,
   "id": "5e0dd76f",
   "metadata": {
    "scrolled": true
   },
   "outputs": [
    {
     "name": "stdout",
     "output_type": "stream",
     "text": [
      "[{'score': 1.1927711, 'show': {'id': 5451, 'url': 'https://www.tvmaze.com/shows/5451/golden-girls', 'name': 'Golden Girls', 'type': 'Scripted', 'language': 'Dutch', 'genres': ['Comedy', 'Family', 'Romance'], 'status': 'Ended', 'runtime': 30, 'averageRuntime': 30, 'premiered': '2012-08-25', 'ended': '2012-11-03', 'officialSite': None, 'schedule': {'time': '20:00', 'days': ['Saturday']}, 'rating': {'average': None}, 'weight': 82, 'network': {'id': 112, 'name': 'RTL4', 'country': {'name': 'Netherlands', 'code': 'NL', 'timezone': 'Europe/Amsterdam'}, 'officialSite': None}, 'webChannel': None, 'dvdCountry': None, 'externals': {'tvrage': None, 'thetvdb': 262042, 'imdb': 'tt2359096'}, 'image': {'medium': 'https://static.tvmaze.com/uploads/images/medium_portrait/22/55709.jpg', 'original': 'https://static.tvmaze.com/uploads/images/original_untouched/22/55709.jpg'}, 'summary': '<p>Meet Barbara, Els, Toos &amp; Milly... Together they form the perfect circle of friends and live in their home in Scheveningen. The scripts are based on original American screenplays, but have been rewritten into Dutch and the year 2012.</p>', 'updated': 1624285127, '_links': {'self': {'href': 'https://api.tvmaze.com/shows/5451'}, 'previousepisode': {'href': 'https://api.tvmaze.com/episodes/2117447'}}}}, {'score': 1.0137639, 'show': {'id': 722, 'url': 'https://www.tvmaze.com/shows/722/the-golden-girls', 'name': 'The Golden Girls', 'type': 'Scripted', 'language': 'English', 'genres': ['Drama', 'Comedy'], 'status': 'Ended', 'runtime': 30, 'averageRuntime': 30, 'premiered': '1985-09-14', 'ended': '1992-05-09', 'officialSite': None, 'schedule': {'time': '21:00', 'days': ['Saturday']}, 'rating': {'average': 8.2}, 'weight': 90, 'network': {'id': 1, 'name': 'NBC', 'country': {'name': 'United States', 'code': 'US', 'timezone': 'America/New_York'}, 'officialSite': 'https://www.nbc.com/'}, 'webChannel': None, 'dvdCountry': None, 'externals': {'tvrage': 5820, 'thetvdb': 71292, 'imdb': 'tt0088526'}, 'image': {'medium': 'https://static.tvmaze.com/uploads/images/medium_portrait/6/15097.jpg', 'original': 'https://static.tvmaze.com/uploads/images/original_untouched/6/15097.jpg'}, 'summary': '<p><b>The Golden Girls</b> follows four South Florida seniors sharing a house, their dreams, and a whole lot of cheesecake. Bright, promiscuous, clueless, and hilarious, these lovely mismatched ladies form the perfect circle of friends.</p>', 'updated': 1668397818, '_links': {'self': {'href': 'https://api.tvmaze.com/shows/722'}, 'previousepisode': {'href': 'https://api.tvmaze.com/episodes/64040'}}}}, {'score': 0.46022618, 'show': {'id': 57291, 'url': 'https://www.tvmaze.com/shows/57291/the-holden-girls-mandy-myrtle', 'name': 'The Holden Girls: Mandy & Myrtle', 'type': 'Scripted', 'language': 'English', 'genres': ['Comedy'], 'status': 'Running', 'runtime': None, 'averageRuntime': 32, 'premiered': '2021-09-07', 'ended': None, 'officialSite': 'https://www.channel4.com/programmes/the-holden-girls-mandy-myrtle/', 'schedule': {'time': '', 'days': ['Tuesday']}, 'rating': {'average': None}, 'weight': 38, 'network': {'id': 41, 'name': 'E4', 'country': {'name': 'United Kingdom', 'code': 'GB', 'timezone': 'Europe/London'}, 'officialSite': None}, 'webChannel': None, 'dvdCountry': None, 'externals': {'tvrage': None, 'thetvdb': 409152, 'imdb': 'tt15371940'}, 'image': {'medium': 'https://static.tvmaze.com/uploads/images/medium_portrait/354/887264.jpg', 'original': 'https://static.tvmaze.com/uploads/images/original_untouched/354/887264.jpg'}, 'summary': '<p>Spoof documentary followiing actress and broadcaster Amanda Holden and her grandmother Myrtle, played by Leigh Francis.</p>', 'updated': 1651538878, '_links': {'self': {'href': 'https://api.tvmaze.com/shows/57291'}, 'previousepisode': {'href': 'https://api.tvmaze.com/episodes/2166477'}}}}]\n"
     ]
    }
   ],
   "source": [
    "print(tvshow)"
   ]
  },
  {
   "cell_type": "code",
   "execution_count": 39,
   "id": "9ac6955f",
   "metadata": {},
   "outputs": [
    {
     "data": {
      "text/plain": [
       "list"
      ]
     },
     "execution_count": 39,
     "metadata": {},
     "output_type": "execute_result"
    }
   ],
   "source": [
    "type(tvshow)"
   ]
  },
  {
   "cell_type": "code",
   "execution_count": 56,
   "id": "26dd5791",
   "metadata": {},
   "outputs": [],
   "source": [
    "tvguide = tvshow[0]['show']['name']"
   ]
  },
  {
   "cell_type": "code",
   "execution_count": 57,
   "id": "0aeb2fae",
   "metadata": {},
   "outputs": [
    {
     "data": {
      "text/plain": [
       "'Golden Girls'"
      ]
     },
     "execution_count": 57,
     "metadata": {},
     "output_type": "execute_result"
    }
   ],
   "source": [
    "tvguide"
   ]
  },
  {
   "cell_type": "code",
   "execution_count": 66,
   "id": "8c8b2727",
   "metadata": {},
   "outputs": [],
   "source": [
    "# open file with keys and set the path to your credentials JSON file\n",
    "credentials = \"spotify_keys.json\"\n",
    "with open(credentials, \"r\") as keys:\n",
    "    api_tokens = json.load(keys)\n",
    " "
   ]
  },
  {
   "cell_type": "code",
   "execution_count": 67,
   "id": "af9b002d",
   "metadata": {},
   "outputs": [],
   "source": [
    "client_id = api_tokens[\"client_id\"]\n",
    "client_secret = api_tokens[\"client_secret\"]\n",
    "redirectURI = api_tokens[\"redirect\"]\n",
    "username = api_tokens[\"username\"]\n"
   ]
  },
  {
   "cell_type": "code",
   "execution_count": 68,
   "id": "bde002a0",
   "metadata": {},
   "outputs": [],
   "source": [
    "scope = 'user-read-private user-read-playback-state user-modify-playback-state playlist-modify-public'\n",
    "token = util.prompt_for_user_token(username, scope, client_id=client_id,\n",
    "                           client_secret=client_secret,\n",
    "                           redirect_uri=redirectURI)"
   ]
  },
  {
   "cell_type": "code",
   "execution_count": 69,
   "id": "26e43a91",
   "metadata": {},
   "outputs": [
    {
     "name": "stdout",
     "output_type": "stream",
     "text": [
      "BQB9EM0QKG91KkVE29oHD_pb7SjoLn3bV15MP9GJOSQaGoz8bmmJ59C9b6dhOZQwPgQW-u7ad_i6qoxZr9S2zS7CQgZirc_Kt8Ez6h70uf4lwJ17ke81xHdKwnD31_mC1lyyrobP9eQBjChzwYzVCLe1E51VD9gYbCqLC_-WeS7lyoleITlXlkLDpY1n3gFhYQcb2cN64DseIHX6r0OkCujTF5rw2A\n"
     ]
    }
   ],
   "source": [
    "print(token)"
   ]
  },
  {
   "cell_type": "code",
   "execution_count": 70,
   "id": "bc16c683",
   "metadata": {},
   "outputs": [],
   "source": [
    "#create spotify object to interact with API\n",
    "sp= spotipy.Spotify(auth=token)"
   ]
  },
  {
   "cell_type": "code",
   "execution_count": 71,
   "id": "9e6a6c4b",
   "metadata": {},
   "outputs": [],
   "source": [
    "# learn about more query strings for spotify here: https://developer.spotify.com/documentation/web-api/reference/#/operations/search\n",
    "audiobook_results = sp.search(q=tvguide, type='audiobook', limit=50)"
   ]
  },
  {
   "cell_type": "code",
   "execution_count": 72,
   "id": "fc531cbb",
   "metadata": {},
   "outputs": [
    {
     "data": {
      "text/plain": [
       "{'audiobooks': {'href': 'https://api.spotify.com/v1/search?query=Golden+Girls&type=audiobook&offset=0&limit=50',\n",
       "  'items': [{'authors': [{'name': 'Vic Vitale'}],\n",
       "    'available_markets': ['AU', 'GB', 'IE', 'NZ', 'US'],\n",
       "    'copyrights': [],\n",
       "    'description': 'Author(s): Vic Vitale\\nNarrator(s): Mr. Vic, Jupiter Grant\\n\\n<p>In this hot interracial sex story, a twenty year old black man tells the story of the night he delivered pizza to the four senior white ladies of television fame:\\xa0</p><p>Blanche, Dorothy, Rose & Charmaine are so grateful for his service, the older ladies use their horny bodies to tip the delivery guy in return for them getting his own real big tip.\\xa0</p><br /><br />',\n",
       "    'edition': 'Unabridged',\n",
       "    'explicit': True,\n",
       "    'external_urls': {'spotify': 'https://open.spotify.com/show/64Y9Q1q2QJuM3MorA7HR7E'},\n",
       "    'href': 'https://api.spotify.com/v1/audiobooks/64Y9Q1q2QJuM3MorA7HR7E',\n",
       "    'html_description': 'Author(s): Vic Vitale<br/>Narrator(s): Mr. Vic, Jupiter Grant<br/>&lt;p&gt;In this hot interracial sex story, a twenty year old black man tells the story of the night he delivered pizza to the four senior white ladies of television fame:\\xa0&lt;/p&gt;&lt;p&gt;Blanche, Dorothy, Rose &amp; Charmaine are so grateful for his service, the older ladies use their horny bodies to tip the delivery guy in return for them getting his own real big tip.\\xa0&lt;/p&gt;&lt;br /&gt;&lt;br /&gt;',\n",
       "    'id': '64Y9Q1q2QJuM3MorA7HR7E',\n",
       "    'images': [{'height': 640,\n",
       "      'url': 'https://i.scdn.co/image/ab676663000022a818a52c9fe0a84e80bc2f3570',\n",
       "      'width': 640},\n",
       "     {'height': 300,\n",
       "      'url': 'https://i.scdn.co/image/ab6766630000db5b18a52c9fe0a84e80bc2f3570',\n",
       "      'width': 300},\n",
       "     {'height': 64,\n",
       "      'url': 'https://i.scdn.co/image/ab6766630000703b18a52c9fe0a84e80bc2f3570',\n",
       "      'width': 64}],\n",
       "    'languages': ['English'],\n",
       "    'media_type': 'audio',\n",
       "    'name': 'Golden Girls Heated Pool: Mr. Vic’s X-Rated Television:',\n",
       "    'narrators': [{'name': 'Mr. Vic'}, {'name': 'Jupiter Grant'}],\n",
       "    'publisher': 'Vitale Erotica',\n",
       "    'total_chapters': 6,\n",
       "    'type': 'audiobook',\n",
       "    'uri': 'spotify:show:64Y9Q1q2QJuM3MorA7HR7E'},\n",
       "   {'authors': [{'name': 'Judy Leigh'}],\n",
       "    'available_markets': ['AU', 'GB', 'IE', 'NZ', 'US'],\n",
       "    'copyrights': [],\n",
       "    'description': \"Author(s): Judy Leigh\\nNarrator(s): Phyllida Nash\\n\\n<p><b>The most uplifting book you’ll read this year!</b></p><p>It has been a long and lonely year for neighbours Vivienne, Mary and Gwen. All ladies of a ‘certain age’, their lockdown experience has left them feeling isolated and alone. They are in desperate need of a change.</p><p>Things start to look up however, when Gwen comes up with a plan to get them out of London by borrowing a motor home. In no time at all the ladies are on the road – away from the city, away from their own four walls, and away from their worries. </p><p>The British countryside has never looked more beautiful. As they travel from Stonehenge to Dartmoor, from the Devon and Cornish coasts to the Yorkshire moors, gradually the years fall back, and the three friends start to imagine new futures with no limitations.</p><p>And as their journey continues and their friendships deepen, and while the seaside views turn into glorious mountains and moors, Mary, Vivienne and Gwen learn to smile again, to laugh again, and maybe even to love again. Now they can believe that the best is still to come…</p><p><b>Readers love Judy Leigh:</b></p><p>‘Loved this from cover to cover, pity I can only give this 5 stars as it deserves far more.’<br><br>‘The story’s simply wonderful, the theme of second chances will resonate whatever your age, there’s something for everyone among the characters, and I do defy anyone not to have a tear in their eye at the perfect ending.’<br><br>‘With brilliant characters and hilarious antics, this is definitely a cosy read you'll not want to miss.’<br><br>‘This is just one of those books that makes you feel good about being alive!’<br><br>‘A lovely read of how life doesn't just end because your getting old.’<br><br>‘A great feel-good and fun story that made me laugh and root for the characters.’</p><p><b>Praise for Judy Leigh:</b></p><p>‘Brilliantly funny, emotional and uplifting’ <b>Miranda Dickinson</b></p><p>'Lovely . . . a book that assures that life is far from over at seventy' <b>Cathy Hopkins </b>bestselling author of The Kicking the Bucket List</p><p>'Brimming with warmth, humour and a love of life… a wonderful escapade’ <b>Fiona Gibson</b>,</p>\",\n",
       "    'edition': 'Unabridged',\n",
       "    'explicit': False,\n",
       "    'external_urls': {'spotify': 'https://open.spotify.com/show/1692BCqZvcXLVsjeJ06zrG'},\n",
       "    'href': 'https://api.spotify.com/v1/audiobooks/1692BCqZvcXLVsjeJ06zrG',\n",
       "    'html_description': 'Author(s): Judy Leigh<br/>Narrator(s): Phyllida Nash<br/>&lt;p&gt;&lt;b&gt;The most uplifting book you’ll read this year!&lt;/b&gt;&lt;/p&gt;&lt;p&gt;It has been a long and lonely year for neighbours Vivienne, Mary and Gwen. All ladies of a ‘certain age’, their lockdown experience has left them feeling isolated and alone. They are in desperate need of a change.&lt;/p&gt;&lt;p&gt;Things start to look up however, when Gwen comes up with a plan to get them out of London by borrowing a motor home. In no time at all the ladies are on the road – away from the city, away from their own four walls, and away from their worries. &lt;/p&gt;&lt;p&gt;The British countryside has never looked more beautiful. As they travel from Stonehenge to Dartmoor, from the Devon and Cornish coasts to the Yorkshire moors, gradually the years fall back, and the three friends start to imagine new futures with no limitations.&lt;/p&gt;&lt;p&gt;And as their journey continues and their friendships deepen, and while the seaside views turn into glorious mountains and moors, Mary, Vivienne and Gwen learn to smile again, to laugh again, and maybe even to love again. Now they can believe that the best is still to come…&lt;/p&gt;&lt;p&gt;&lt;b&gt;Readers love Judy Leigh:&lt;/b&gt;&lt;/p&gt;&lt;p&gt;‘Loved this from cover to cover, pity I can only give this 5 stars as it deserves far more.’&lt;br&gt;&lt;br&gt;‘The story’s simply wonderful, the theme of second chances will resonate whatever your age, there’s something for everyone among the characters, and I do defy anyone not to have a tear in their eye at the perfect ending.’&lt;br&gt;&lt;br&gt;‘With brilliant characters and hilarious antics, this is definitely a cosy read you&#39;ll not want to miss.’&lt;br&gt;&lt;br&gt;‘This is just one of those books that makes you feel good about being alive!’&lt;br&gt;&lt;br&gt;‘A lovely read of how life doesn&#39;t just end because your getting old.’&lt;br&gt;&lt;br&gt;‘A great feel-good and fun story that made me laugh and root for the characters.’&lt;/p&gt;&lt;p&gt;&lt;b&gt;Praise for Judy Leigh:&lt;/b&gt;&lt;/p&gt;&lt;p&gt;‘Brilliantly funny, emotional and uplifting’ &lt;b&gt;Miranda Dickinson&lt;/b&gt;&lt;/p&gt;&lt;p&gt;&#39;Lovely . . . a book that assures that life is far from over at seventy&#39; &lt;b&gt;Cathy Hopkins &lt;/b&gt;bestselling author of The Kicking the Bucket List&lt;/p&gt;&lt;p&gt;&#39;Brimming with warmth, humour and a love of life… a wonderful escapade’ &lt;b&gt;Fiona Gibson&lt;/b&gt;,&lt;/p&gt;',\n",
       "    'id': '1692BCqZvcXLVsjeJ06zrG',\n",
       "    'images': [{'height': 640,\n",
       "      'url': 'https://i.scdn.co/image/ab676663000022a8ac806b14d7890ab4a443ad29',\n",
       "      'width': 640},\n",
       "     {'height': 300,\n",
       "      'url': 'https://i.scdn.co/image/ab6766630000db5bac806b14d7890ab4a443ad29',\n",
       "      'width': 300},\n",
       "     {'height': 64,\n",
       "      'url': 'https://i.scdn.co/image/ab6766630000703bac806b14d7890ab4a443ad29',\n",
       "      'width': 64}],\n",
       "    'languages': ['English'],\n",
       "    'media_type': 'audio',\n",
       "    'name': \"The Golden Girls' Getaway\",\n",
       "    'narrators': [{'name': 'Phyllida Nash'}],\n",
       "    'publisher': 'Boldwood Books',\n",
       "    'total_chapters': 42,\n",
       "    'type': 'audiobook',\n",
       "    'uri': 'spotify:show:1692BCqZvcXLVsjeJ06zrG'},\n",
       "   {'authors': [{'name': 'Elin Hilderbrand'}],\n",
       "    'available_markets': ['AU', 'GB', 'IE', 'NZ', 'US'],\n",
       "    'copyrights': [],\n",
       "    'description': 'Author(s): Elin Hilderbrand\\nNarrator(s): Erin Bennett\\n\\n<P><B>In this satisfying page-turner from \"the queen of beach reads\" (<I>New York Magazine</I>), a Nantucket novelist has one final summer to protect her secrets while her loved ones on earth learn to live without their golden girl.</B></P><P>On a perfect June day, Vivian Howe, author of thirteen\\xa0beach novels and mother of three nearly grown children, is killed in a hit-and-run car accident while jogging near her home on Nantucket. She ascends to the Beyond where she\\'s assigned to a Person named Martha, who allows Vivi to watch what happens below for one last summer. Vivi also is granted three “nudges” to change the outcome of events on earth, and with her daughter Willa on her third miscarriage, Carson partying until all hours, and Leo currently “off again” with his high-maintenance girlfriend, she’ll have to think carefully where to use them.<BR /><BR />From the Beyond, Vivi watches “The Chief” Ed Kapenash investigate her death, but her greatest worry is her final book, which contains a secret from her own youth that could be disastrous for her reputation. But when hidden truths come to light, Vivi’s family will have to sort out their past and present mistakes—with or without a nudge of help from above—while Vivi finally lets them grow without her.<BR /><BR />With all of Elin’s trademark beach scenes, mouth-watering meals, and picture-perfect homes, plus a heartfelt message—the people we lose never really leave us—<I>Golden Girl</I> is a beach book unlike any other.</P>',\n",
       "    'edition': 'Unabridged',\n",
       "    'explicit': False,\n",
       "    'external_urls': {'spotify': 'https://open.spotify.com/show/1FSnNU1s3vfBHkLEuHLIS5'},\n",
       "    'href': 'https://api.spotify.com/v1/audiobooks/1FSnNU1s3vfBHkLEuHLIS5',\n",
       "    'html_description': 'Author(s): Elin Hilderbrand<br/>Narrator(s): Erin Bennett<br/>&lt;P&gt;&lt;B&gt;In this satisfying page-turner from &#34;the queen of beach reads&#34; (&lt;I&gt;New York Magazine&lt;/I&gt;), a Nantucket novelist has one final summer to protect her secrets while her loved ones on earth learn to live without their golden girl.&lt;/B&gt;&lt;/P&gt;&lt;P&gt;On a perfect June day, Vivian Howe, author of thirteen\\xa0beach novels and mother of three nearly grown children, is killed in a hit-and-run car accident while jogging near her home on Nantucket. She ascends to the Beyond where she&#39;s assigned to a Person named Martha, who allows Vivi to watch what happens below for one last summer. Vivi also is granted three “nudges” to change the outcome of events on earth, and with her daughter Willa on her third miscarriage, Carson partying until all hours, and Leo currently “off again” with his high-maintenance girlfriend, she’ll have to think carefully where to use them.&lt;BR /&gt;&lt;BR /&gt;From the Beyond, Vivi watches “The Chief” Ed Kapenash investigate her death, but her greatest worry is her final book, which contains a secret from her own youth that could be disastrous for her reputation. But when hidden truths come to light, Vivi’s family will have to sort out their past and present mistakes—with or without a nudge of help from above—while Vivi finally lets them grow without her.&lt;BR /&gt;&lt;BR /&gt;With all of Elin’s trademark beach scenes, mouth-watering meals, and picture-perfect homes, plus a heartfelt message—the people we lose never really leave us—&lt;I&gt;Golden Girl&lt;/I&gt; is a beach book unlike any other.&lt;/P&gt;',\n",
       "    'id': '1FSnNU1s3vfBHkLEuHLIS5',\n",
       "    'images': [{'height': 640,\n",
       "      'url': 'https://i.scdn.co/image/ab676663000022a81e1332d7f05d4fa12ac8f26d',\n",
       "      'width': 640},\n",
       "     {'height': 300,\n",
       "      'url': 'https://i.scdn.co/image/ab6766630000db5b1e1332d7f05d4fa12ac8f26d',\n",
       "      'width': 300},\n",
       "     {'height': 64,\n",
       "      'url': 'https://i.scdn.co/image/ab6766630000703b1e1332d7f05d4fa12ac8f26d',\n",
       "      'width': 64}],\n",
       "    'languages': ['English'],\n",
       "    'media_type': 'audio',\n",
       "    'name': 'Golden Girl',\n",
       "    'narrators': [{'name': 'Erin Bennett'}],\n",
       "    'publisher': 'Hachette Audio',\n",
       "    'total_chapters': 56,\n",
       "    'type': 'audiobook',\n",
       "    'uri': 'spotify:show:1FSnNU1s3vfBHkLEuHLIS5'},\n",
       "   {'authors': [{'name': 'Elin Hilderbrand'}],\n",
       "    'available_markets': ['AU', 'GB', 'IE', 'NZ'],\n",
       "    'copyrights': [{'text': 'Hachette UK 2021', 'type': 'C'}],\n",
       "    'description': 'Author(s): Elin Hilderbrand\\nNarrator(s): Laurence Bouvard\\n\\n<font size=\"+1\">\\'I just LOVE [Elin Hilderbrand\\'s] books, they are such compulsive reads\\' - Marian Keyes</font><br><br>When Vivian Howe, author of thirteen novels and mother of three grown-up children, is killed in a hit-and-run incident while jogging near her home, she ascends to the Beyond. Because her death was unfair, she is allowed to watch what happens below with her children, her best friend, her ex-husband, and a rival novelist whose book is coming out the same day as Vivi\\'s.<br><br> Vivi is also given the use of three \\'nudges\\' so that she can influence the outcome of events in the world of the living. As Vivi discovers her children\\'s secrets, watches the investigation into her own death and worries about a secret from her youth coming to light, she must decide what she wants to manipulate - and what should be left well alone.<br><br> <b>Combining Elin Hilderbrand\\'s trademark beach scenes, mouth-watering meals and picture-perfect homes with the heartfelt message that the people we lose never really leave us, <i>Golden Girl</i> is a beach book unlike any other from \\'Queen of the Summer Novel\\' (<i>People</i>).</b><br><b></b><br><b><u>Praise for Elin Hilderbrand:</u></b><br><br>This sweeping love story is Hilderbrand\\'s best ever - <i>New York Times</i> on 28 SUMMERS<br><br>\\'Captivating and bittersweet\\' - <i>People</i><br><br>\\'Elin Hilderbrand is the godmother of beach reads for a reason\\' - <i>Good Housekeeping</i><br><br>\\'Hilderbrand sets the gold standard in escapist fiction\\' - <i>Kirkus</i><br><br>\\'Less a story about a secretive affair and more a tale of sweet nostalgia and fate, this title will be popular with a wide audience\\' - <i>Library Journal</i>',\n",
       "    'edition': 'Unabridged',\n",
       "    'explicit': False,\n",
       "    'external_urls': {'spotify': 'https://open.spotify.com/show/1srGyiCC7NzO2qrGQcTRca'},\n",
       "    'href': 'https://api.spotify.com/v1/audiobooks/1srGyiCC7NzO2qrGQcTRca',\n",
       "    'html_description': 'Author(s): Elin Hilderbrand<br/>Narrator(s): Laurence Bouvard<br/>&lt;font size&#61;&#34;&#43;1&#34;&gt;&#39;I just LOVE [Elin Hilderbrand&#39;s] books, they are such compulsive reads&#39; - Marian Keyes&lt;/font&gt;&lt;br&gt;&lt;br&gt;When Vivian Howe, author of thirteen novels and mother of three grown-up children, is killed in a hit-and-run incident while jogging near her home, she ascends to the Beyond. Because her death was unfair, she is allowed to watch what happens below with her children, her best friend, her ex-husband, and a rival novelist whose book is coming out the same day as Vivi&#39;s.&lt;br&gt;&lt;br&gt; Vivi is also given the use of three &#39;nudges&#39; so that she can influence the outcome of events in the world of the living. As Vivi discovers her children&#39;s secrets, watches the investigation into her own death and worries about a secret from her youth coming to light, she must decide what she wants to manipulate - and what should be left well alone.&lt;br&gt;&lt;br&gt; &lt;b&gt;Combining Elin Hilderbrand&#39;s trademark beach scenes, mouth-watering meals and picture-perfect homes with the heartfelt message that the people we lose never really leave us, &lt;i&gt;Golden Girl&lt;/i&gt; is a beach book unlike any other from &#39;Queen of the Summer Novel&#39; (&lt;i&gt;People&lt;/i&gt;).&lt;/b&gt;&lt;br&gt;&lt;b&gt;&lt;/b&gt;&lt;br&gt;&lt;b&gt;&lt;u&gt;Praise for Elin Hilderbrand:&lt;/u&gt;&lt;/b&gt;&lt;br&gt;&lt;br&gt;This sweeping love story is Hilderbrand&#39;s best ever - &lt;i&gt;New York Times&lt;/i&gt; on 28 SUMMERS&lt;br&gt;&lt;br&gt;&#39;Captivating and bittersweet&#39; - &lt;i&gt;People&lt;/i&gt;&lt;br&gt;&lt;br&gt;&#39;Elin Hilderbrand is the godmother of beach reads for a reason&#39; - &lt;i&gt;Good Housekeeping&lt;/i&gt;&lt;br&gt;&lt;br&gt;&#39;Hilderbrand sets the gold standard in escapist fiction&#39; - &lt;i&gt;Kirkus&lt;/i&gt;&lt;br&gt;&lt;br&gt;&#39;Less a story about a secretive affair and more a tale of sweet nostalgia and fate, this title will be popular with a wide audience&#39; - &lt;i&gt;Library Journal&lt;/i&gt;',\n",
       "    'id': '1srGyiCC7NzO2qrGQcTRca',\n",
       "    'images': [{'height': 640,\n",
       "      'url': 'https://i.scdn.co/image/ab676663000022a8f1f707ec8381f1f4f1283cef',\n",
       "      'width': 640},\n",
       "     {'height': 300,\n",
       "      'url': 'https://i.scdn.co/image/ab6766630000db5bf1f707ec8381f1f4f1283cef',\n",
       "      'width': 300},\n",
       "     {'height': 64,\n",
       "      'url': 'https://i.scdn.co/image/ab6766630000703bf1f707ec8381f1f4f1283cef',\n",
       "      'width': 64}],\n",
       "    'languages': ['English'],\n",
       "    'media_type': 'audio',\n",
       "    'name': 'Golden Girl: The perfect escapist summer read from the #1 New York Times bestseller',\n",
       "    'narrators': [{'name': 'Laurence Bouvard'}],\n",
       "    'publisher': 'Hachette UK',\n",
       "    'total_chapters': 55,\n",
       "    'type': 'audiobook',\n",
       "    'uri': 'spotify:show:1srGyiCC7NzO2qrGQcTRca'},\n",
       "   {'authors': [{'name': 'Marliese Arold'}],\n",
       "    'available_markets': ['AU', 'GB', 'IE', 'NZ', 'US'],\n",
       "    'copyrights': [{'text': 'Igel Records 2013', 'type': 'C'}],\n",
       "    'description': 'Author(s): Marliese Arold\\nNarrator(s): Sabine Falkenberg\\n\\nElena ist schwer verliebt in den geheimnisvollen Milan. Am liebsten möchte sie ihre ganze Freizeit mit ihm verbringen. Doch dann verschwindet plötzlich Großvater Jeremias! Elena und Miranda machen sich auf die Suche nach ihm und müssen erkennen, dass alles Glück seinen Preis hat …',\n",
       "    'edition': 'Abridged',\n",
       "    'explicit': False,\n",
       "    'external_urls': {'spotify': 'https://open.spotify.com/show/0u5v01Ux4Kb3Iivs89tt2B'},\n",
       "    'href': 'https://api.spotify.com/v1/audiobooks/0u5v01Ux4Kb3Iivs89tt2B',\n",
       "    'html_description': 'Author(s): Marliese Arold<br/>Narrator(s): Sabine Falkenberg<br/>Elena ist schwer verliebt in den geheimnisvollen Milan. Am liebsten möchte sie ihre ganze Freizeit mit ihm verbringen. Doch dann verschwindet plötzlich Großvater Jeremias! Elena und Miranda machen sich auf die Suche nach ihm und müssen erkennen, dass alles Glück seinen Preis hat …',\n",
       "    'id': '0u5v01Ux4Kb3Iivs89tt2B',\n",
       "    'images': [{'height': 640,\n",
       "      'url': 'https://i.scdn.co/image/ab676663000022a8146ea72927fbe5af0b7b94e5',\n",
       "      'width': 640},\n",
       "     {'height': 300,\n",
       "      'url': 'https://i.scdn.co/image/ab6766630000db5b146ea72927fbe5af0b7b94e5',\n",
       "      'width': 300},\n",
       "     {'height': 64,\n",
       "      'url': 'https://i.scdn.co/image/ab6766630000703b146ea72927fbe5af0b7b94e5',\n",
       "      'width': 64}],\n",
       "    'languages': ['German'],\n",
       "    'media_type': 'audio',\n",
       "    'name': 'Magic Girls 10. Der goldene Schlüssel',\n",
       "    'narrators': [{'name': 'Sabine Falkenberg'}],\n",
       "    'publisher': 'Igel Records',\n",
       "    'total_chapters': 23,\n",
       "    'type': 'audiobook',\n",
       "    'uri': 'spotify:show:0u5v01Ux4Kb3Iivs89tt2B'}],\n",
       "  'limit': 50,\n",
       "  'next': None,\n",
       "  'offset': 0,\n",
       "  'previous': None,\n",
       "  'total': 5}}"
      ]
     },
     "execution_count": 72,
     "metadata": {},
     "output_type": "execute_result"
    }
   ],
   "source": [
    "audiobook_results"
   ]
  },
  {
   "cell_type": "code",
   "execution_count": 73,
   "id": "f4fd0c21",
   "metadata": {},
   "outputs": [
    {
     "data": {
      "text/plain": [
       "{'href': 'https://api.spotify.com/v1/search?query=Golden+Girls&type=audiobook&offset=0&limit=50',\n",
       " 'items': [{'authors': [{'name': 'Vic Vitale'}],\n",
       "   'available_markets': ['AU', 'GB', 'IE', 'NZ', 'US'],\n",
       "   'copyrights': [],\n",
       "   'description': 'Author(s): Vic Vitale\\nNarrator(s): Mr. Vic, Jupiter Grant\\n\\n<p>In this hot interracial sex story, a twenty year old black man tells the story of the night he delivered pizza to the four senior white ladies of television fame:\\xa0</p><p>Blanche, Dorothy, Rose & Charmaine are so grateful for his service, the older ladies use their horny bodies to tip the delivery guy in return for them getting his own real big tip.\\xa0</p><br /><br />',\n",
       "   'edition': 'Unabridged',\n",
       "   'explicit': True,\n",
       "   'external_urls': {'spotify': 'https://open.spotify.com/show/64Y9Q1q2QJuM3MorA7HR7E'},\n",
       "   'href': 'https://api.spotify.com/v1/audiobooks/64Y9Q1q2QJuM3MorA7HR7E',\n",
       "   'html_description': 'Author(s): Vic Vitale<br/>Narrator(s): Mr. Vic, Jupiter Grant<br/>&lt;p&gt;In this hot interracial sex story, a twenty year old black man tells the story of the night he delivered pizza to the four senior white ladies of television fame:\\xa0&lt;/p&gt;&lt;p&gt;Blanche, Dorothy, Rose &amp; Charmaine are so grateful for his service, the older ladies use their horny bodies to tip the delivery guy in return for them getting his own real big tip.\\xa0&lt;/p&gt;&lt;br /&gt;&lt;br /&gt;',\n",
       "   'id': '64Y9Q1q2QJuM3MorA7HR7E',\n",
       "   'images': [{'height': 640,\n",
       "     'url': 'https://i.scdn.co/image/ab676663000022a818a52c9fe0a84e80bc2f3570',\n",
       "     'width': 640},\n",
       "    {'height': 300,\n",
       "     'url': 'https://i.scdn.co/image/ab6766630000db5b18a52c9fe0a84e80bc2f3570',\n",
       "     'width': 300},\n",
       "    {'height': 64,\n",
       "     'url': 'https://i.scdn.co/image/ab6766630000703b18a52c9fe0a84e80bc2f3570',\n",
       "     'width': 64}],\n",
       "   'languages': ['English'],\n",
       "   'media_type': 'audio',\n",
       "   'name': 'Golden Girls Heated Pool: Mr. Vic’s X-Rated Television:',\n",
       "   'narrators': [{'name': 'Mr. Vic'}, {'name': 'Jupiter Grant'}],\n",
       "   'publisher': 'Vitale Erotica',\n",
       "   'total_chapters': 6,\n",
       "   'type': 'audiobook',\n",
       "   'uri': 'spotify:show:64Y9Q1q2QJuM3MorA7HR7E'},\n",
       "  {'authors': [{'name': 'Judy Leigh'}],\n",
       "   'available_markets': ['AU', 'GB', 'IE', 'NZ', 'US'],\n",
       "   'copyrights': [],\n",
       "   'description': \"Author(s): Judy Leigh\\nNarrator(s): Phyllida Nash\\n\\n<p><b>The most uplifting book you’ll read this year!</b></p><p>It has been a long and lonely year for neighbours Vivienne, Mary and Gwen. All ladies of a ‘certain age’, their lockdown experience has left them feeling isolated and alone. They are in desperate need of a change.</p><p>Things start to look up however, when Gwen comes up with a plan to get them out of London by borrowing a motor home. In no time at all the ladies are on the road – away from the city, away from their own four walls, and away from their worries. </p><p>The British countryside has never looked more beautiful. As they travel from Stonehenge to Dartmoor, from the Devon and Cornish coasts to the Yorkshire moors, gradually the years fall back, and the three friends start to imagine new futures with no limitations.</p><p>And as their journey continues and their friendships deepen, and while the seaside views turn into glorious mountains and moors, Mary, Vivienne and Gwen learn to smile again, to laugh again, and maybe even to love again. Now they can believe that the best is still to come…</p><p><b>Readers love Judy Leigh:</b></p><p>‘Loved this from cover to cover, pity I can only give this 5 stars as it deserves far more.’<br><br>‘The story’s simply wonderful, the theme of second chances will resonate whatever your age, there’s something for everyone among the characters, and I do defy anyone not to have a tear in their eye at the perfect ending.’<br><br>‘With brilliant characters and hilarious antics, this is definitely a cosy read you'll not want to miss.’<br><br>‘This is just one of those books that makes you feel good about being alive!’<br><br>‘A lovely read of how life doesn't just end because your getting old.’<br><br>‘A great feel-good and fun story that made me laugh and root for the characters.’</p><p><b>Praise for Judy Leigh:</b></p><p>‘Brilliantly funny, emotional and uplifting’ <b>Miranda Dickinson</b></p><p>'Lovely . . . a book that assures that life is far from over at seventy' <b>Cathy Hopkins </b>bestselling author of The Kicking the Bucket List</p><p>'Brimming with warmth, humour and a love of life… a wonderful escapade’ <b>Fiona Gibson</b>,</p>\",\n",
       "   'edition': 'Unabridged',\n",
       "   'explicit': False,\n",
       "   'external_urls': {'spotify': 'https://open.spotify.com/show/1692BCqZvcXLVsjeJ06zrG'},\n",
       "   'href': 'https://api.spotify.com/v1/audiobooks/1692BCqZvcXLVsjeJ06zrG',\n",
       "   'html_description': 'Author(s): Judy Leigh<br/>Narrator(s): Phyllida Nash<br/>&lt;p&gt;&lt;b&gt;The most uplifting book you’ll read this year!&lt;/b&gt;&lt;/p&gt;&lt;p&gt;It has been a long and lonely year for neighbours Vivienne, Mary and Gwen. All ladies of a ‘certain age’, their lockdown experience has left them feeling isolated and alone. They are in desperate need of a change.&lt;/p&gt;&lt;p&gt;Things start to look up however, when Gwen comes up with a plan to get them out of London by borrowing a motor home. In no time at all the ladies are on the road – away from the city, away from their own four walls, and away from their worries. &lt;/p&gt;&lt;p&gt;The British countryside has never looked more beautiful. As they travel from Stonehenge to Dartmoor, from the Devon and Cornish coasts to the Yorkshire moors, gradually the years fall back, and the three friends start to imagine new futures with no limitations.&lt;/p&gt;&lt;p&gt;And as their journey continues and their friendships deepen, and while the seaside views turn into glorious mountains and moors, Mary, Vivienne and Gwen learn to smile again, to laugh again, and maybe even to love again. Now they can believe that the best is still to come…&lt;/p&gt;&lt;p&gt;&lt;b&gt;Readers love Judy Leigh:&lt;/b&gt;&lt;/p&gt;&lt;p&gt;‘Loved this from cover to cover, pity I can only give this 5 stars as it deserves far more.’&lt;br&gt;&lt;br&gt;‘The story’s simply wonderful, the theme of second chances will resonate whatever your age, there’s something for everyone among the characters, and I do defy anyone not to have a tear in their eye at the perfect ending.’&lt;br&gt;&lt;br&gt;‘With brilliant characters and hilarious antics, this is definitely a cosy read you&#39;ll not want to miss.’&lt;br&gt;&lt;br&gt;‘This is just one of those books that makes you feel good about being alive!’&lt;br&gt;&lt;br&gt;‘A lovely read of how life doesn&#39;t just end because your getting old.’&lt;br&gt;&lt;br&gt;‘A great feel-good and fun story that made me laugh and root for the characters.’&lt;/p&gt;&lt;p&gt;&lt;b&gt;Praise for Judy Leigh:&lt;/b&gt;&lt;/p&gt;&lt;p&gt;‘Brilliantly funny, emotional and uplifting’ &lt;b&gt;Miranda Dickinson&lt;/b&gt;&lt;/p&gt;&lt;p&gt;&#39;Lovely . . . a book that assures that life is far from over at seventy&#39; &lt;b&gt;Cathy Hopkins &lt;/b&gt;bestselling author of The Kicking the Bucket List&lt;/p&gt;&lt;p&gt;&#39;Brimming with warmth, humour and a love of life… a wonderful escapade’ &lt;b&gt;Fiona Gibson&lt;/b&gt;,&lt;/p&gt;',\n",
       "   'id': '1692BCqZvcXLVsjeJ06zrG',\n",
       "   'images': [{'height': 640,\n",
       "     'url': 'https://i.scdn.co/image/ab676663000022a8ac806b14d7890ab4a443ad29',\n",
       "     'width': 640},\n",
       "    {'height': 300,\n",
       "     'url': 'https://i.scdn.co/image/ab6766630000db5bac806b14d7890ab4a443ad29',\n",
       "     'width': 300},\n",
       "    {'height': 64,\n",
       "     'url': 'https://i.scdn.co/image/ab6766630000703bac806b14d7890ab4a443ad29',\n",
       "     'width': 64}],\n",
       "   'languages': ['English'],\n",
       "   'media_type': 'audio',\n",
       "   'name': \"The Golden Girls' Getaway\",\n",
       "   'narrators': [{'name': 'Phyllida Nash'}],\n",
       "   'publisher': 'Boldwood Books',\n",
       "   'total_chapters': 42,\n",
       "   'type': 'audiobook',\n",
       "   'uri': 'spotify:show:1692BCqZvcXLVsjeJ06zrG'},\n",
       "  {'authors': [{'name': 'Elin Hilderbrand'}],\n",
       "   'available_markets': ['AU', 'GB', 'IE', 'NZ', 'US'],\n",
       "   'copyrights': [],\n",
       "   'description': 'Author(s): Elin Hilderbrand\\nNarrator(s): Erin Bennett\\n\\n<P><B>In this satisfying page-turner from \"the queen of beach reads\" (<I>New York Magazine</I>), a Nantucket novelist has one final summer to protect her secrets while her loved ones on earth learn to live without their golden girl.</B></P><P>On a perfect June day, Vivian Howe, author of thirteen\\xa0beach novels and mother of three nearly grown children, is killed in a hit-and-run car accident while jogging near her home on Nantucket. She ascends to the Beyond where she\\'s assigned to a Person named Martha, who allows Vivi to watch what happens below for one last summer. Vivi also is granted three “nudges” to change the outcome of events on earth, and with her daughter Willa on her third miscarriage, Carson partying until all hours, and Leo currently “off again” with his high-maintenance girlfriend, she’ll have to think carefully where to use them.<BR /><BR />From the Beyond, Vivi watches “The Chief” Ed Kapenash investigate her death, but her greatest worry is her final book, which contains a secret from her own youth that could be disastrous for her reputation. But when hidden truths come to light, Vivi’s family will have to sort out their past and present mistakes—with or without a nudge of help from above—while Vivi finally lets them grow without her.<BR /><BR />With all of Elin’s trademark beach scenes, mouth-watering meals, and picture-perfect homes, plus a heartfelt message—the people we lose never really leave us—<I>Golden Girl</I> is a beach book unlike any other.</P>',\n",
       "   'edition': 'Unabridged',\n",
       "   'explicit': False,\n",
       "   'external_urls': {'spotify': 'https://open.spotify.com/show/1FSnNU1s3vfBHkLEuHLIS5'},\n",
       "   'href': 'https://api.spotify.com/v1/audiobooks/1FSnNU1s3vfBHkLEuHLIS5',\n",
       "   'html_description': 'Author(s): Elin Hilderbrand<br/>Narrator(s): Erin Bennett<br/>&lt;P&gt;&lt;B&gt;In this satisfying page-turner from &#34;the queen of beach reads&#34; (&lt;I&gt;New York Magazine&lt;/I&gt;), a Nantucket novelist has one final summer to protect her secrets while her loved ones on earth learn to live without their golden girl.&lt;/B&gt;&lt;/P&gt;&lt;P&gt;On a perfect June day, Vivian Howe, author of thirteen\\xa0beach novels and mother of three nearly grown children, is killed in a hit-and-run car accident while jogging near her home on Nantucket. She ascends to the Beyond where she&#39;s assigned to a Person named Martha, who allows Vivi to watch what happens below for one last summer. Vivi also is granted three “nudges” to change the outcome of events on earth, and with her daughter Willa on her third miscarriage, Carson partying until all hours, and Leo currently “off again” with his high-maintenance girlfriend, she’ll have to think carefully where to use them.&lt;BR /&gt;&lt;BR /&gt;From the Beyond, Vivi watches “The Chief” Ed Kapenash investigate her death, but her greatest worry is her final book, which contains a secret from her own youth that could be disastrous for her reputation. But when hidden truths come to light, Vivi’s family will have to sort out their past and present mistakes—with or without a nudge of help from above—while Vivi finally lets them grow without her.&lt;BR /&gt;&lt;BR /&gt;With all of Elin’s trademark beach scenes, mouth-watering meals, and picture-perfect homes, plus a heartfelt message—the people we lose never really leave us—&lt;I&gt;Golden Girl&lt;/I&gt; is a beach book unlike any other.&lt;/P&gt;',\n",
       "   'id': '1FSnNU1s3vfBHkLEuHLIS5',\n",
       "   'images': [{'height': 640,\n",
       "     'url': 'https://i.scdn.co/image/ab676663000022a81e1332d7f05d4fa12ac8f26d',\n",
       "     'width': 640},\n",
       "    {'height': 300,\n",
       "     'url': 'https://i.scdn.co/image/ab6766630000db5b1e1332d7f05d4fa12ac8f26d',\n",
       "     'width': 300},\n",
       "    {'height': 64,\n",
       "     'url': 'https://i.scdn.co/image/ab6766630000703b1e1332d7f05d4fa12ac8f26d',\n",
       "     'width': 64}],\n",
       "   'languages': ['English'],\n",
       "   'media_type': 'audio',\n",
       "   'name': 'Golden Girl',\n",
       "   'narrators': [{'name': 'Erin Bennett'}],\n",
       "   'publisher': 'Hachette Audio',\n",
       "   'total_chapters': 56,\n",
       "   'type': 'audiobook',\n",
       "   'uri': 'spotify:show:1FSnNU1s3vfBHkLEuHLIS5'},\n",
       "  {'authors': [{'name': 'Elin Hilderbrand'}],\n",
       "   'available_markets': ['AU', 'GB', 'IE', 'NZ'],\n",
       "   'copyrights': [{'text': 'Hachette UK 2021', 'type': 'C'}],\n",
       "   'description': 'Author(s): Elin Hilderbrand\\nNarrator(s): Laurence Bouvard\\n\\n<font size=\"+1\">\\'I just LOVE [Elin Hilderbrand\\'s] books, they are such compulsive reads\\' - Marian Keyes</font><br><br>When Vivian Howe, author of thirteen novels and mother of three grown-up children, is killed in a hit-and-run incident while jogging near her home, she ascends to the Beyond. Because her death was unfair, she is allowed to watch what happens below with her children, her best friend, her ex-husband, and a rival novelist whose book is coming out the same day as Vivi\\'s.<br><br> Vivi is also given the use of three \\'nudges\\' so that she can influence the outcome of events in the world of the living. As Vivi discovers her children\\'s secrets, watches the investigation into her own death and worries about a secret from her youth coming to light, she must decide what she wants to manipulate - and what should be left well alone.<br><br> <b>Combining Elin Hilderbrand\\'s trademark beach scenes, mouth-watering meals and picture-perfect homes with the heartfelt message that the people we lose never really leave us, <i>Golden Girl</i> is a beach book unlike any other from \\'Queen of the Summer Novel\\' (<i>People</i>).</b><br><b></b><br><b><u>Praise for Elin Hilderbrand:</u></b><br><br>This sweeping love story is Hilderbrand\\'s best ever - <i>New York Times</i> on 28 SUMMERS<br><br>\\'Captivating and bittersweet\\' - <i>People</i><br><br>\\'Elin Hilderbrand is the godmother of beach reads for a reason\\' - <i>Good Housekeeping</i><br><br>\\'Hilderbrand sets the gold standard in escapist fiction\\' - <i>Kirkus</i><br><br>\\'Less a story about a secretive affair and more a tale of sweet nostalgia and fate, this title will be popular with a wide audience\\' - <i>Library Journal</i>',\n",
       "   'edition': 'Unabridged',\n",
       "   'explicit': False,\n",
       "   'external_urls': {'spotify': 'https://open.spotify.com/show/1srGyiCC7NzO2qrGQcTRca'},\n",
       "   'href': 'https://api.spotify.com/v1/audiobooks/1srGyiCC7NzO2qrGQcTRca',\n",
       "   'html_description': 'Author(s): Elin Hilderbrand<br/>Narrator(s): Laurence Bouvard<br/>&lt;font size&#61;&#34;&#43;1&#34;&gt;&#39;I just LOVE [Elin Hilderbrand&#39;s] books, they are such compulsive reads&#39; - Marian Keyes&lt;/font&gt;&lt;br&gt;&lt;br&gt;When Vivian Howe, author of thirteen novels and mother of three grown-up children, is killed in a hit-and-run incident while jogging near her home, she ascends to the Beyond. Because her death was unfair, she is allowed to watch what happens below with her children, her best friend, her ex-husband, and a rival novelist whose book is coming out the same day as Vivi&#39;s.&lt;br&gt;&lt;br&gt; Vivi is also given the use of three &#39;nudges&#39; so that she can influence the outcome of events in the world of the living. As Vivi discovers her children&#39;s secrets, watches the investigation into her own death and worries about a secret from her youth coming to light, she must decide what she wants to manipulate - and what should be left well alone.&lt;br&gt;&lt;br&gt; &lt;b&gt;Combining Elin Hilderbrand&#39;s trademark beach scenes, mouth-watering meals and picture-perfect homes with the heartfelt message that the people we lose never really leave us, &lt;i&gt;Golden Girl&lt;/i&gt; is a beach book unlike any other from &#39;Queen of the Summer Novel&#39; (&lt;i&gt;People&lt;/i&gt;).&lt;/b&gt;&lt;br&gt;&lt;b&gt;&lt;/b&gt;&lt;br&gt;&lt;b&gt;&lt;u&gt;Praise for Elin Hilderbrand:&lt;/u&gt;&lt;/b&gt;&lt;br&gt;&lt;br&gt;This sweeping love story is Hilderbrand&#39;s best ever - &lt;i&gt;New York Times&lt;/i&gt; on 28 SUMMERS&lt;br&gt;&lt;br&gt;&#39;Captivating and bittersweet&#39; - &lt;i&gt;People&lt;/i&gt;&lt;br&gt;&lt;br&gt;&#39;Elin Hilderbrand is the godmother of beach reads for a reason&#39; - &lt;i&gt;Good Housekeeping&lt;/i&gt;&lt;br&gt;&lt;br&gt;&#39;Hilderbrand sets the gold standard in escapist fiction&#39; - &lt;i&gt;Kirkus&lt;/i&gt;&lt;br&gt;&lt;br&gt;&#39;Less a story about a secretive affair and more a tale of sweet nostalgia and fate, this title will be popular with a wide audience&#39; - &lt;i&gt;Library Journal&lt;/i&gt;',\n",
       "   'id': '1srGyiCC7NzO2qrGQcTRca',\n",
       "   'images': [{'height': 640,\n",
       "     'url': 'https://i.scdn.co/image/ab676663000022a8f1f707ec8381f1f4f1283cef',\n",
       "     'width': 640},\n",
       "    {'height': 300,\n",
       "     'url': 'https://i.scdn.co/image/ab6766630000db5bf1f707ec8381f1f4f1283cef',\n",
       "     'width': 300},\n",
       "    {'height': 64,\n",
       "     'url': 'https://i.scdn.co/image/ab6766630000703bf1f707ec8381f1f4f1283cef',\n",
       "     'width': 64}],\n",
       "   'languages': ['English'],\n",
       "   'media_type': 'audio',\n",
       "   'name': 'Golden Girl: The perfect escapist summer read from the #1 New York Times bestseller',\n",
       "   'narrators': [{'name': 'Laurence Bouvard'}],\n",
       "   'publisher': 'Hachette UK',\n",
       "   'total_chapters': 55,\n",
       "   'type': 'audiobook',\n",
       "   'uri': 'spotify:show:1srGyiCC7NzO2qrGQcTRca'},\n",
       "  {'authors': [{'name': 'Marliese Arold'}],\n",
       "   'available_markets': ['AU', 'GB', 'IE', 'NZ', 'US'],\n",
       "   'copyrights': [{'text': 'Igel Records 2013', 'type': 'C'}],\n",
       "   'description': 'Author(s): Marliese Arold\\nNarrator(s): Sabine Falkenberg\\n\\nElena ist schwer verliebt in den geheimnisvollen Milan. Am liebsten möchte sie ihre ganze Freizeit mit ihm verbringen. Doch dann verschwindet plötzlich Großvater Jeremias! Elena und Miranda machen sich auf die Suche nach ihm und müssen erkennen, dass alles Glück seinen Preis hat …',\n",
       "   'edition': 'Abridged',\n",
       "   'explicit': False,\n",
       "   'external_urls': {'spotify': 'https://open.spotify.com/show/0u5v01Ux4Kb3Iivs89tt2B'},\n",
       "   'href': 'https://api.spotify.com/v1/audiobooks/0u5v01Ux4Kb3Iivs89tt2B',\n",
       "   'html_description': 'Author(s): Marliese Arold<br/>Narrator(s): Sabine Falkenberg<br/>Elena ist schwer verliebt in den geheimnisvollen Milan. Am liebsten möchte sie ihre ganze Freizeit mit ihm verbringen. Doch dann verschwindet plötzlich Großvater Jeremias! Elena und Miranda machen sich auf die Suche nach ihm und müssen erkennen, dass alles Glück seinen Preis hat …',\n",
       "   'id': '0u5v01Ux4Kb3Iivs89tt2B',\n",
       "   'images': [{'height': 640,\n",
       "     'url': 'https://i.scdn.co/image/ab676663000022a8146ea72927fbe5af0b7b94e5',\n",
       "     'width': 640},\n",
       "    {'height': 300,\n",
       "     'url': 'https://i.scdn.co/image/ab6766630000db5b146ea72927fbe5af0b7b94e5',\n",
       "     'width': 300},\n",
       "    {'height': 64,\n",
       "     'url': 'https://i.scdn.co/image/ab6766630000703b146ea72927fbe5af0b7b94e5',\n",
       "     'width': 64}],\n",
       "   'languages': ['German'],\n",
       "   'media_type': 'audio',\n",
       "   'name': 'Magic Girls 10. Der goldene Schlüssel',\n",
       "   'narrators': [{'name': 'Sabine Falkenberg'}],\n",
       "   'publisher': 'Igel Records',\n",
       "   'total_chapters': 23,\n",
       "   'type': 'audiobook',\n",
       "   'uri': 'spotify:show:0u5v01Ux4Kb3Iivs89tt2B'}],\n",
       " 'limit': 50,\n",
       " 'next': None,\n",
       " 'offset': 0,\n",
       " 'previous': None,\n",
       " 'total': 5}"
      ]
     },
     "execution_count": 73,
     "metadata": {},
     "output_type": "execute_result"
    }
   ],
   "source": [
    "audiobook_results['audiobooks']"
   ]
  },
  {
   "cell_type": "code",
   "execution_count": 81,
   "id": "c469b353",
   "metadata": {},
   "outputs": [
    {
     "ename": "KeyError",
     "evalue": "'audiobook'",
     "output_type": "error",
     "traceback": [
      "\u001b[1;31m---------------------------------------------------------------------------\u001b[0m",
      "\u001b[1;31mKeyError\u001b[0m                                  Traceback (most recent call last)",
      "Cell \u001b[1;32mIn [81], line 1\u001b[0m\n\u001b[1;32m----> 1\u001b[0m audiobooks \u001b[38;5;241m=\u001b[39m \u001b[43maudiobook_results\u001b[49m\u001b[43m[\u001b[49m\u001b[38;5;124;43m'\u001b[39;49m\u001b[38;5;124;43maudiobook\u001b[39;49m\u001b[38;5;124;43m'\u001b[39;49m\u001b[43m]\u001b[49m[\u001b[38;5;124m'\u001b[39m\u001b[38;5;124mitems\u001b[39m\u001b[38;5;124m'\u001b[39m]\n",
      "\u001b[1;31mKeyError\u001b[0m: 'audiobook'"
     ]
    }
   ],
   "source": [
    "audiobooks = audiobook_results['audiobook']['items']\n"
   ]
  },
  {
   "cell_type": "code",
   "execution_count": 78,
   "id": "54b6cd92",
   "metadata": {},
   "outputs": [
    {
     "ename": "KeyError",
     "evalue": "'audiobook'",
     "output_type": "error",
     "traceback": [
      "\u001b[1;31m---------------------------------------------------------------------------\u001b[0m",
      "\u001b[1;31mKeyError\u001b[0m                                  Traceback (most recent call last)",
      "Cell \u001b[1;32mIn [78], line 1\u001b[0m\n\u001b[1;32m----> 1\u001b[0m \u001b[43maudiobook_results\u001b[49m\u001b[43m[\u001b[49m\u001b[38;5;124;43m'\u001b[39;49m\u001b[38;5;124;43maudiobook\u001b[39;49m\u001b[38;5;124;43m'\u001b[39;49m\u001b[43m]\u001b[49m[\u001b[38;5;124m'\u001b[39m\u001b[38;5;124mitems\u001b[39m\u001b[38;5;124m'\u001b[39m]\n",
      "\u001b[1;31mKeyError\u001b[0m: 'audiobook'"
     ]
    }
   ],
   "source": [
    "audiobook_results['audiobook']['items']"
   ]
  },
  {
   "cell_type": "raw",
   "id": "8b7ca869",
   "metadata": {},
   "source": [
    "# URI = uniform resource identifier\n",
    "audiobook_selection_list = []\n",
    "\n",
    "for book in audiobooks:\n",
    "    audiobooks_selection_list.append(podcast['uri'])\n",
    "    "
   ]
  },
  {
   "cell_type": "code",
   "execution_count": 79,
   "id": "a81ba300",
   "metadata": {},
   "outputs": [
    {
     "ename": "NameError",
     "evalue": "name 'audiobooks_selection_list' is not defined",
     "output_type": "error",
     "traceback": [
      "\u001b[1;31m---------------------------------------------------------------------------\u001b[0m",
      "\u001b[1;31mNameError\u001b[0m                                 Traceback (most recent call last)",
      "Cell \u001b[1;32mIn [79], line 1\u001b[0m\n\u001b[1;32m----> 1\u001b[0m \u001b[38;5;28mprint\u001b[39m (\u001b[43maudiobooks_selection_list\u001b[49m)\n",
      "\u001b[1;31mNameError\u001b[0m: name 'audiobooks_selection_list' is not defined"
     ]
    }
   ],
   "source": [
    "print (audiobooks_selection_list)"
   ]
  },
  {
   "cell_type": "code",
   "execution_count": 80,
   "id": "efbd0922",
   "metadata": {},
   "outputs": [],
   "source": [
    "my_playlist = sp.user_playlist_create(user=username, name=\"tvguide\", public=True,\n",
    "                                      description=\"bedtime Scary Stories\")\n"
   ]
  },
  {
   "cell_type": "code",
   "execution_count": 29,
   "id": "30e4df69",
   "metadata": {},
   "outputs": [
    {
     "name": "stdout",
     "output_type": "stream",
     "text": [
      "{'collaborative': False, 'description': 'bedtime Scary Stories', 'external_urls': {'spotify': 'https://open.spotify.com/playlist/0rad2xTu01Gqkgprw8IT0b'}, 'followers': {'href': None, 'total': 0}, 'href': 'https://api.spotify.com/v1/playlists/0rad2xTu01Gqkgprw8IT0b', 'id': '0rad2xTu01Gqkgprw8IT0b', 'images': [], 'name': 'Scary Stories', 'owner': {'display_name': 'moremiarikebajo', 'external_urls': {'spotify': 'https://open.spotify.com/user/ifegal'}, 'href': 'https://api.spotify.com/v1/users/ifegal', 'id': 'ifegal', 'type': 'user', 'uri': 'spotify:user:ifegal'}, 'primary_color': None, 'public': True, 'snapshot_id': 'MSwxZWMyYTdmMjA5NDg2ZThlOGQwMGI2ZjdkNWMwYTcxNjY3MDU3ODc5', 'tracks': {'href': 'https://api.spotify.com/v1/playlists/0rad2xTu01Gqkgprw8IT0b/tracks', 'items': [], 'limit': 100, 'next': None, 'offset': 0, 'previous': None, 'total': 0}, 'type': 'playlist', 'uri': 'spotify:playlist:0rad2xTu01Gqkgprw8IT0b'}\n"
     ]
    }
   ],
   "source": [
    "print(my_playlist)"
   ]
  },
  {
   "cell_type": "code",
   "execution_count": 30,
   "id": "53842772",
   "metadata": {},
   "outputs": [
    {
     "ename": "NameError",
     "evalue": "name 'track_selection_list' is not defined",
     "output_type": "error",
     "traceback": [
      "\u001b[1;31m---------------------------------------------------------------------------\u001b[0m",
      "\u001b[1;31mNameError\u001b[0m                                 Traceback (most recent call last)",
      "Cell \u001b[1;32mIn [30], line 1\u001b[0m\n\u001b[1;32m----> 1\u001b[0m results \u001b[38;5;241m=\u001b[39m sp\u001b[38;5;241m.\u001b[39muser_playlist_add_tracks(username, my_playlist[\u001b[38;5;124m'\u001b[39m\u001b[38;5;124mid\u001b[39m\u001b[38;5;124m'\u001b[39m], \u001b[43mtrack_selection_list\u001b[49m)\n\u001b[0;32m      3\u001b[0m \u001b[38;5;28mprint\u001b[39m(results)\n",
      "\u001b[1;31mNameError\u001b[0m: name 'track_selection_list' is not defined"
     ]
    }
   ],
   "source": [
    "results = sp.user_playlist_add_tracks(username, my_playlist['id'], track_selection_list)\n",
    "\n",
    "print(results)"
   ]
  },
  {
   "cell_type": "code",
   "execution_count": 31,
   "id": "9cf22ad4",
   "metadata": {},
   "outputs": [
    {
     "data": {
      "text/plain": [
       "True"
      ]
     },
     "execution_count": 31,
     "metadata": {},
     "output_type": "execute_result"
    }
   ],
   "source": [
    "# sp.start_playback(deviceID, None, track_selection_list)\n",
    "webbrowser.open(my_playlist['external_urls']['spotify'])"
   ]
  },
  {
   "cell_type": "code",
   "execution_count": null,
   "id": "3d43d6b8",
   "metadata": {},
   "outputs": [],
   "source": []
  },
  {
   "cell_type": "code",
   "execution_count": null,
   "id": "ed965b7d",
   "metadata": {},
   "outputs": [],
   "source": []
  },
  {
   "cell_type": "code",
   "execution_count": null,
   "id": "eb327bf5",
   "metadata": {},
   "outputs": [],
   "source": []
  }
 ],
 "metadata": {
  "kernelspec": {
   "display_name": "Python 3 (ipykernel)",
   "language": "python",
   "name": "python3"
  },
  "language_info": {
   "codemirror_mode": {
    "name": "ipython",
    "version": 3
   },
   "file_extension": ".py",
   "mimetype": "text/x-python",
   "name": "python",
   "nbconvert_exporter": "python",
   "pygments_lexer": "ipython3",
   "version": "3.11.0"
  }
 },
 "nbformat": 4,
 "nbformat_minor": 5
}
