{
 "cells": [
  {
   "cell_type": "code",
   "execution_count": 80,
   "id": "d57a4d18",
   "metadata": {},
   "outputs": [],
   "source": [
    "import spotipy\n",
    "import json\n",
    "import webbrowser\n",
    "import urllib.request\n",
    "import spotipy.util as util\n",
    "import sys"
   ]
  },
  {
   "cell_type": "code",
   "execution_count": 81,
   "id": "9b9c162a",
   "metadata": {},
   "outputs": [],
   "source": [
    "\n",
    "from spotipy.oauth2 import SpotifyClientCredentials\n",
    "import json"
   ]
  },
  {
   "cell_type": "code",
   "execution_count": 82,
   "id": "37ddebcc",
   "metadata": {},
   "outputs": [],
   "source": [
    "import urllib.request\n",
    "import spotipy.util as util"
   ]
  },
  {
   "cell_type": "code",
   "execution_count": 83,
   "id": "e16af7a2",
   "metadata": {},
   "outputs": [],
   "source": [
    "# copy and paste the url into your browser to see what data you are getting back\n",
    "request = urllib.request.Request('http://api.tvmaze.com/search/shows?q=golden%20girls')\n",
    "response = urllib.request.urlopen(request)"
   ]
  },
  {
   "cell_type": "code",
   "execution_count": 84,
   "id": "d754b8a7",
   "metadata": {
    "scrolled": true
   },
   "outputs": [
    {
     "data": {
      "text/plain": [
       "http.client.HTTPResponse"
      ]
     },
     "execution_count": 84,
     "metadata": {},
     "output_type": "execute_result"
    }
   ],
   "source": [
    "type(response)"
   ]
  },
  {
   "cell_type": "code",
   "execution_count": 85,
   "id": "71f53517",
   "metadata": {},
   "outputs": [],
   "source": [
    "#convert this into a python dict\n",
    "tvshow =json.loads(response.read())"
   ]
  },
  {
   "cell_type": "code",
   "execution_count": 86,
   "id": "5e0dd76f",
   "metadata": {
    "scrolled": true
   },
   "outputs": [
    {
     "name": "stdout",
     "output_type": "stream",
     "text": [
      "[{'score': 1.1934137, 'show': {'id': 5451, 'url': 'https://www.tvmaze.com/shows/5451/golden-girls', 'name': 'Golden Girls', 'type': 'Scripted', 'language': 'Dutch', 'genres': ['Comedy', 'Family', 'Romance'], 'status': 'Ended', 'runtime': 30, 'averageRuntime': 30, 'premiered': '2012-08-25', 'ended': '2012-11-03', 'officialSite': None, 'schedule': {'time': '20:00', 'days': ['Saturday']}, 'rating': {'average': None}, 'weight': 82, 'network': {'id': 112, 'name': 'RTL4', 'country': {'name': 'Netherlands', 'code': 'NL', 'timezone': 'Europe/Amsterdam'}, 'officialSite': None}, 'webChannel': None, 'dvdCountry': None, 'externals': {'tvrage': None, 'thetvdb': 262042, 'imdb': 'tt2359096'}, 'image': {'medium': 'https://static.tvmaze.com/uploads/images/medium_portrait/22/55709.jpg', 'original': 'https://static.tvmaze.com/uploads/images/original_untouched/22/55709.jpg'}, 'summary': '<p>Meet Barbara, Els, Toos &amp; Milly... Together they form the perfect circle of friends and live in their home in Scheveningen. The scripts are based on original American screenplays, but have been rewritten into Dutch and the year 2012.</p>', 'updated': 1624285127, '_links': {'self': {'href': 'https://api.tvmaze.com/shows/5451'}, 'previousepisode': {'href': 'https://api.tvmaze.com/episodes/2117447'}}}}, {'score': 1.0139104, 'show': {'id': 722, 'url': 'https://www.tvmaze.com/shows/722/the-golden-girls', 'name': 'The Golden Girls', 'type': 'Scripted', 'language': 'English', 'genres': ['Drama', 'Comedy'], 'status': 'Ended', 'runtime': 30, 'averageRuntime': 30, 'premiered': '1985-09-14', 'ended': '1992-05-09', 'officialSite': None, 'schedule': {'time': '21:00', 'days': ['Saturday']}, 'rating': {'average': 8.2}, 'weight': 90, 'network': {'id': 1, 'name': 'NBC', 'country': {'name': 'United States', 'code': 'US', 'timezone': 'America/New_York'}, 'officialSite': 'https://www.nbc.com/'}, 'webChannel': None, 'dvdCountry': None, 'externals': {'tvrage': 5820, 'thetvdb': 71292, 'imdb': 'tt0088526'}, 'image': {'medium': 'https://static.tvmaze.com/uploads/images/medium_portrait/6/15097.jpg', 'original': 'https://static.tvmaze.com/uploads/images/original_untouched/6/15097.jpg'}, 'summary': '<p><b>The Golden Girls</b> follows four South Florida seniors sharing a house, their dreams, and a whole lot of cheesecake. Bright, promiscuous, clueless, and hilarious, these lovely mismatched ladies form the perfect circle of friends.</p>', 'updated': 1668397818, '_links': {'self': {'href': 'https://api.tvmaze.com/shows/722'}, 'previousepisode': {'href': 'https://api.tvmaze.com/episodes/64040'}}}}, {'score': 0.45770466, 'show': {'id': 57291, 'url': 'https://www.tvmaze.com/shows/57291/the-holden-girls-mandy-myrtle', 'name': 'The Holden Girls: Mandy & Myrtle', 'type': 'Scripted', 'language': 'English', 'genres': ['Comedy'], 'status': 'Running', 'runtime': None, 'averageRuntime': 32, 'premiered': '2021-09-07', 'ended': None, 'officialSite': 'https://www.channel4.com/programmes/the-holden-girls-mandy-myrtle/', 'schedule': {'time': '', 'days': ['Tuesday']}, 'rating': {'average': None}, 'weight': 38, 'network': {'id': 41, 'name': 'E4', 'country': {'name': 'United Kingdom', 'code': 'GB', 'timezone': 'Europe/London'}, 'officialSite': None}, 'webChannel': None, 'dvdCountry': None, 'externals': {'tvrage': None, 'thetvdb': 409152, 'imdb': 'tt15371940'}, 'image': {'medium': 'https://static.tvmaze.com/uploads/images/medium_portrait/354/887264.jpg', 'original': 'https://static.tvmaze.com/uploads/images/original_untouched/354/887264.jpg'}, 'summary': '<p>Spoof documentary followiing actress and broadcaster Amanda Holden and her grandmother Myrtle, played by Leigh Francis.</p>', 'updated': 1651538878, '_links': {'self': {'href': 'https://api.tvmaze.com/shows/57291'}, 'previousepisode': {'href': 'https://api.tvmaze.com/episodes/2166477'}}}}]\n"
     ]
    }
   ],
   "source": [
    "print(tvshow)"
   ]
  },
  {
   "cell_type": "code",
   "execution_count": 87,
   "id": "9ac6955f",
   "metadata": {},
   "outputs": [
    {
     "data": {
      "text/plain": [
       "list"
      ]
     },
     "execution_count": 87,
     "metadata": {},
     "output_type": "execute_result"
    }
   ],
   "source": [
    "type(tvshow)"
   ]
  },
  {
   "cell_type": "code",
   "execution_count": 88,
   "id": "26dd5791",
   "metadata": {},
   "outputs": [
    {
     "ename": "TypeError",
     "evalue": "list indices must be integers or slices, not str",
     "output_type": "error",
     "traceback": [
      "\u001b[1;31m---------------------------------------------------------------------------\u001b[0m",
      "\u001b[1;31mTypeError\u001b[0m                                 Traceback (most recent call last)",
      "Cell \u001b[1;32mIn [88], line 1\u001b[0m\n\u001b[1;32m----> 1\u001b[0m tvguide \u001b[38;5;241m=\u001b[39m \u001b[43mtvshow\u001b[49m\u001b[43m[\u001b[49m\u001b[38;5;124;43m'\u001b[39;49m\u001b[38;5;124;43mshow\u001b[39;49m\u001b[38;5;124;43m'\u001b[39;49m\u001b[43m]\u001b[49m[\u001b[38;5;124m'\u001b[39m\u001b[38;5;124mname\u001b[39m\u001b[38;5;124m'\u001b[39m]\n",
      "\u001b[1;31mTypeError\u001b[0m: list indices must be integers or slices, not str"
     ]
    }
   ],
   "source": [
    "tvguide = tvshow['show']['name']"
   ]
  },
  {
   "cell_type": "code",
   "execution_count": 89,
   "id": "0aeb2fae",
   "metadata": {},
   "outputs": [
    {
     "ename": "NameError",
     "evalue": "name 'tvguide' is not defined",
     "output_type": "error",
     "traceback": [
      "\u001b[1;31m---------------------------------------------------------------------------\u001b[0m",
      "\u001b[1;31mNameError\u001b[0m                                 Traceback (most recent call last)",
      "Cell \u001b[1;32mIn [89], line 1\u001b[0m\n\u001b[1;32m----> 1\u001b[0m \u001b[43mtvguide\u001b[49m\n",
      "\u001b[1;31mNameError\u001b[0m: name 'tvguide' is not defined"
     ]
    }
   ],
   "source": [
    "tvguide"
   ]
  },
  {
   "cell_type": "code",
   "execution_count": 90,
   "id": "8c8b2727",
   "metadata": {},
   "outputs": [],
   "source": [
    "# open file with keys and set the path to your credentials JSON file\n",
    "credentials = \"spotify_keys.json\"\n",
    "with open(credentials, \"r\") as keys:\n",
    "    api_tokens = json.load(keys)\n",
    " "
   ]
  },
  {
   "cell_type": "code",
   "execution_count": 91,
   "id": "af9b002d",
   "metadata": {},
   "outputs": [],
   "source": [
    "client_id = api_tokens[\"client_id\"]\n",
    "client_secret = api_tokens[\"client_secret\"]\n",
    "redirectURI = api_tokens[\"redirect\"]\n",
    "username = api_tokens[\"username\"]\n"
   ]
  },
  {
   "cell_type": "code",
   "execution_count": 92,
   "id": "bde002a0",
   "metadata": {},
   "outputs": [],
   "source": [
    "scope = 'user-read-private user-read-playback-state user-modify-playback-state playlist-modify-public'\n",
    "token = util.prompt_for_user_token(username, scope, client_id=client_id,\n",
    "                           client_secret=client_secret,\n",
    "                           redirect_uri=redirectURI)"
   ]
  },
  {
   "cell_type": "code",
   "execution_count": 93,
   "id": "26e43a91",
   "metadata": {},
   "outputs": [
    {
     "name": "stdout",
     "output_type": "stream",
     "text": [
      "BQAGRP9fTwnQIxeQR-ffV0uP53fdWgqUuykW_0m9JPwkALu9YSCfEMM5I3wK8xlkZv-C4NWz0_vcsqTl10n6CjVF3XcAfixYPdgmj0Jzpp8smB3J5D-JB7eoQaDRu27RKHssETxFDhq9eD_diTamffnogPx65wj8qd7mXQrMO8VmBPLNjfYonOaWtRATe7vy3d-s98heZImRAf9YIb0QC_oj877I9w\n"
     ]
    }
   ],
   "source": [
    "print(token)"
   ]
  },
  {
   "cell_type": "code",
   "execution_count": 94,
   "id": "bc16c683",
   "metadata": {},
   "outputs": [],
   "source": [
    "#create spotify object to interact with API\n",
    "sp= spotipy.Spotify(auth=token)"
   ]
  },
  {
   "cell_type": "code",
   "execution_count": 106,
   "id": "9e6a6c4b",
   "metadata": {},
   "outputs": [],
   "source": [
    "# learn about more query strings for spotify here: https://developer.spotify.com/documentation/web-api/reference/#/operations/search\n",
    "track_results = sp.search(q=\"Golden Girls\", type='track', limit=50)"
   ]
  },
  {
   "cell_type": "code",
   "execution_count": 107,
   "id": "ebd3bbaf",
   "metadata": {},
   "outputs": [],
   "source": [
    "tracks=track_results['tracks']['items']\n"
   ]
  },
  {
   "cell_type": "code",
   "execution_count": 108,
   "id": "f4fd0c21",
   "metadata": {},
   "outputs": [
    {
     "data": {
      "text/plain": [
       "list"
      ]
     },
     "execution_count": 108,
     "metadata": {},
     "output_type": "execute_result"
    }
   ],
   "source": [
    "type(tracks)"
   ]
  },
  {
   "cell_type": "code",
   "execution_count": 109,
   "id": "54b6cd92",
   "metadata": {},
   "outputs": [
    {
     "data": {
      "text/plain": [
       "{'album': {'album_type': 'single',\n",
       "  'artists': [{'external_urls': {'spotify': 'https://open.spotify.com/artist/0clhXvKQeY8xOFIXwePnyR'},\n",
       "    'href': 'https://api.spotify.com/v1/artists/0clhXvKQeY8xOFIXwePnyR',\n",
       "    'id': '0clhXvKQeY8xOFIXwePnyR',\n",
       "    'name': 'TV Themes',\n",
       "    'type': 'artist',\n",
       "    'uri': 'spotify:artist:0clhXvKQeY8xOFIXwePnyR'}],\n",
       "  'available_markets': ['AD',\n",
       "   'AE',\n",
       "   'AG',\n",
       "   'AL',\n",
       "   'AM',\n",
       "   'AO',\n",
       "   'AR',\n",
       "   'AT',\n",
       "   'AU',\n",
       "   'AZ',\n",
       "   'BA',\n",
       "   'BB',\n",
       "   'BD',\n",
       "   'BE',\n",
       "   'BF',\n",
       "   'BG',\n",
       "   'BH',\n",
       "   'BI',\n",
       "   'BJ',\n",
       "   'BN',\n",
       "   'BO',\n",
       "   'BR',\n",
       "   'BS',\n",
       "   'BT',\n",
       "   'BW',\n",
       "   'BY',\n",
       "   'BZ',\n",
       "   'CA',\n",
       "   'CD',\n",
       "   'CG',\n",
       "   'CH',\n",
       "   'CI',\n",
       "   'CL',\n",
       "   'CM',\n",
       "   'CO',\n",
       "   'CR',\n",
       "   'CV',\n",
       "   'CW',\n",
       "   'CY',\n",
       "   'CZ',\n",
       "   'DE',\n",
       "   'DJ',\n",
       "   'DK',\n",
       "   'DM',\n",
       "   'DO',\n",
       "   'DZ',\n",
       "   'EC',\n",
       "   'EE',\n",
       "   'EG',\n",
       "   'ES',\n",
       "   'FI',\n",
       "   'FJ',\n",
       "   'FM',\n",
       "   'FR',\n",
       "   'GA',\n",
       "   'GB',\n",
       "   'GD',\n",
       "   'GE',\n",
       "   'GH',\n",
       "   'GM',\n",
       "   'GN',\n",
       "   'GQ',\n",
       "   'GR',\n",
       "   'GT',\n",
       "   'GW',\n",
       "   'GY',\n",
       "   'HK',\n",
       "   'HN',\n",
       "   'HR',\n",
       "   'HT',\n",
       "   'HU',\n",
       "   'ID',\n",
       "   'IE',\n",
       "   'IL',\n",
       "   'IN',\n",
       "   'IQ',\n",
       "   'IS',\n",
       "   'IT',\n",
       "   'JM',\n",
       "   'JO',\n",
       "   'JP',\n",
       "   'KE',\n",
       "   'KG',\n",
       "   'KH',\n",
       "   'KI',\n",
       "   'KM',\n",
       "   'KN',\n",
       "   'KR',\n",
       "   'KW',\n",
       "   'KZ',\n",
       "   'LA',\n",
       "   'LB',\n",
       "   'LC',\n",
       "   'LI',\n",
       "   'LK',\n",
       "   'LR',\n",
       "   'LS',\n",
       "   'LT',\n",
       "   'LU',\n",
       "   'LV',\n",
       "   'LY',\n",
       "   'MA',\n",
       "   'MC',\n",
       "   'MD',\n",
       "   'ME',\n",
       "   'MG',\n",
       "   'MH',\n",
       "   'MK',\n",
       "   'ML',\n",
       "   'MN',\n",
       "   'MO',\n",
       "   'MR',\n",
       "   'MT',\n",
       "   'MU',\n",
       "   'MV',\n",
       "   'MW',\n",
       "   'MX',\n",
       "   'MY',\n",
       "   'MZ',\n",
       "   'NA',\n",
       "   'NE',\n",
       "   'NG',\n",
       "   'NI',\n",
       "   'NL',\n",
       "   'NO',\n",
       "   'NP',\n",
       "   'NR',\n",
       "   'NZ',\n",
       "   'OM',\n",
       "   'PA',\n",
       "   'PE',\n",
       "   'PG',\n",
       "   'PH',\n",
       "   'PK',\n",
       "   'PL',\n",
       "   'PS',\n",
       "   'PT',\n",
       "   'PW',\n",
       "   'PY',\n",
       "   'QA',\n",
       "   'RO',\n",
       "   'RS',\n",
       "   'RW',\n",
       "   'SA',\n",
       "   'SB',\n",
       "   'SC',\n",
       "   'SE',\n",
       "   'SG',\n",
       "   'SI',\n",
       "   'SK',\n",
       "   'SL',\n",
       "   'SM',\n",
       "   'SN',\n",
       "   'SR',\n",
       "   'ST',\n",
       "   'SV',\n",
       "   'SZ',\n",
       "   'TD',\n",
       "   'TG',\n",
       "   'TH',\n",
       "   'TJ',\n",
       "   'TL',\n",
       "   'TN',\n",
       "   'TO',\n",
       "   'TR',\n",
       "   'TT',\n",
       "   'TV',\n",
       "   'TW',\n",
       "   'TZ',\n",
       "   'UA',\n",
       "   'UG',\n",
       "   'US',\n",
       "   'UY',\n",
       "   'UZ',\n",
       "   'VC',\n",
       "   'VE',\n",
       "   'VN',\n",
       "   'VU',\n",
       "   'WS',\n",
       "   'XK',\n",
       "   'ZA',\n",
       "   'ZM',\n",
       "   'ZW'],\n",
       "  'external_urls': {'spotify': 'https://open.spotify.com/album/7KqhVOX5lr07gINpfRRpKq'},\n",
       "  'href': 'https://api.spotify.com/v1/albums/7KqhVOX5lr07gINpfRRpKq',\n",
       "  'id': '7KqhVOX5lr07gINpfRRpKq',\n",
       "  'images': [{'height': 640,\n",
       "    'url': 'https://i.scdn.co/image/ab67616d0000b2737832d0b495c50749e6599f33',\n",
       "    'width': 640},\n",
       "   {'height': 300,\n",
       "    'url': 'https://i.scdn.co/image/ab67616d00001e027832d0b495c50749e6599f33',\n",
       "    'width': 300},\n",
       "   {'height': 64,\n",
       "    'url': 'https://i.scdn.co/image/ab67616d000048517832d0b495c50749e6599f33',\n",
       "    'width': 64}],\n",
       "  'name': 'The Golden Girls - The Main Title Theme',\n",
       "  'release_date': '2019-06-17',\n",
       "  'release_date_precision': 'day',\n",
       "  'total_tracks': 1,\n",
       "  'type': 'album',\n",
       "  'uri': 'spotify:album:7KqhVOX5lr07gINpfRRpKq'},\n",
       " 'artists': [{'external_urls': {'spotify': 'https://open.spotify.com/artist/0clhXvKQeY8xOFIXwePnyR'},\n",
       "   'href': 'https://api.spotify.com/v1/artists/0clhXvKQeY8xOFIXwePnyR',\n",
       "   'id': '0clhXvKQeY8xOFIXwePnyR',\n",
       "   'name': 'TV Themes',\n",
       "   'type': 'artist',\n",
       "   'uri': 'spotify:artist:0clhXvKQeY8xOFIXwePnyR'}],\n",
       " 'available_markets': ['AD',\n",
       "  'AE',\n",
       "  'AG',\n",
       "  'AL',\n",
       "  'AM',\n",
       "  'AO',\n",
       "  'AR',\n",
       "  'AT',\n",
       "  'AU',\n",
       "  'AZ',\n",
       "  'BA',\n",
       "  'BB',\n",
       "  'BD',\n",
       "  'BE',\n",
       "  'BF',\n",
       "  'BG',\n",
       "  'BH',\n",
       "  'BI',\n",
       "  'BJ',\n",
       "  'BN',\n",
       "  'BO',\n",
       "  'BR',\n",
       "  'BS',\n",
       "  'BT',\n",
       "  'BW',\n",
       "  'BY',\n",
       "  'BZ',\n",
       "  'CA',\n",
       "  'CD',\n",
       "  'CG',\n",
       "  'CH',\n",
       "  'CI',\n",
       "  'CL',\n",
       "  'CM',\n",
       "  'CO',\n",
       "  'CR',\n",
       "  'CV',\n",
       "  'CW',\n",
       "  'CY',\n",
       "  'CZ',\n",
       "  'DE',\n",
       "  'DJ',\n",
       "  'DK',\n",
       "  'DM',\n",
       "  'DO',\n",
       "  'DZ',\n",
       "  'EC',\n",
       "  'EE',\n",
       "  'EG',\n",
       "  'ES',\n",
       "  'FI',\n",
       "  'FJ',\n",
       "  'FM',\n",
       "  'FR',\n",
       "  'GA',\n",
       "  'GB',\n",
       "  'GD',\n",
       "  'GE',\n",
       "  'GH',\n",
       "  'GM',\n",
       "  'GN',\n",
       "  'GQ',\n",
       "  'GR',\n",
       "  'GT',\n",
       "  'GW',\n",
       "  'GY',\n",
       "  'HK',\n",
       "  'HN',\n",
       "  'HR',\n",
       "  'HT',\n",
       "  'HU',\n",
       "  'ID',\n",
       "  'IE',\n",
       "  'IL',\n",
       "  'IN',\n",
       "  'IQ',\n",
       "  'IS',\n",
       "  'IT',\n",
       "  'JM',\n",
       "  'JO',\n",
       "  'JP',\n",
       "  'KE',\n",
       "  'KG',\n",
       "  'KH',\n",
       "  'KI',\n",
       "  'KM',\n",
       "  'KN',\n",
       "  'KR',\n",
       "  'KW',\n",
       "  'KZ',\n",
       "  'LA',\n",
       "  'LB',\n",
       "  'LC',\n",
       "  'LI',\n",
       "  'LK',\n",
       "  'LR',\n",
       "  'LS',\n",
       "  'LT',\n",
       "  'LU',\n",
       "  'LV',\n",
       "  'LY',\n",
       "  'MA',\n",
       "  'MC',\n",
       "  'MD',\n",
       "  'ME',\n",
       "  'MG',\n",
       "  'MH',\n",
       "  'MK',\n",
       "  'ML',\n",
       "  'MN',\n",
       "  'MO',\n",
       "  'MR',\n",
       "  'MT',\n",
       "  'MU',\n",
       "  'MV',\n",
       "  'MW',\n",
       "  'MX',\n",
       "  'MY',\n",
       "  'MZ',\n",
       "  'NA',\n",
       "  'NE',\n",
       "  'NG',\n",
       "  'NI',\n",
       "  'NL',\n",
       "  'NO',\n",
       "  'NP',\n",
       "  'NR',\n",
       "  'NZ',\n",
       "  'OM',\n",
       "  'PA',\n",
       "  'PE',\n",
       "  'PG',\n",
       "  'PH',\n",
       "  'PK',\n",
       "  'PL',\n",
       "  'PS',\n",
       "  'PT',\n",
       "  'PW',\n",
       "  'PY',\n",
       "  'QA',\n",
       "  'RO',\n",
       "  'RS',\n",
       "  'RW',\n",
       "  'SA',\n",
       "  'SB',\n",
       "  'SC',\n",
       "  'SE',\n",
       "  'SG',\n",
       "  'SI',\n",
       "  'SK',\n",
       "  'SL',\n",
       "  'SM',\n",
       "  'SN',\n",
       "  'SR',\n",
       "  'ST',\n",
       "  'SV',\n",
       "  'SZ',\n",
       "  'TD',\n",
       "  'TG',\n",
       "  'TH',\n",
       "  'TJ',\n",
       "  'TL',\n",
       "  'TN',\n",
       "  'TO',\n",
       "  'TR',\n",
       "  'TT',\n",
       "  'TV',\n",
       "  'TW',\n",
       "  'TZ',\n",
       "  'UA',\n",
       "  'UG',\n",
       "  'US',\n",
       "  'UY',\n",
       "  'UZ',\n",
       "  'VC',\n",
       "  'VE',\n",
       "  'VN',\n",
       "  'VU',\n",
       "  'WS',\n",
       "  'XK',\n",
       "  'ZA',\n",
       "  'ZM',\n",
       "  'ZW'],\n",
       " 'disc_number': 1,\n",
       " 'duration_ms': 42906,\n",
       " 'explicit': False,\n",
       " 'external_ids': {'isrc': 'UKDNQ1542692'},\n",
       " 'external_urls': {'spotify': 'https://open.spotify.com/track/4Nf5ljEHnktwk6PKOzjGQa'},\n",
       " 'href': 'https://api.spotify.com/v1/tracks/4Nf5ljEHnktwk6PKOzjGQa',\n",
       " 'id': '4Nf5ljEHnktwk6PKOzjGQa',\n",
       " 'is_local': False,\n",
       " 'name': 'The Golden Girls - The Main Title Theme',\n",
       " 'popularity': 38,\n",
       " 'preview_url': 'https://p.scdn.co/mp3-preview/96d4cda193f6e26a02394ab1475717ebc18e1bd4?cid=b1786b14d0fa4cca953b746638d62c51',\n",
       " 'track_number': 1,\n",
       " 'type': 'track',\n",
       " 'uri': 'spotify:track:4Nf5ljEHnktwk6PKOzjGQa'}"
      ]
     },
     "execution_count": 109,
     "metadata": {},
     "output_type": "execute_result"
    }
   ],
   "source": [
    "tracks[0]"
   ]
  },
  {
   "cell_type": "code",
   "execution_count": 110,
   "id": "cb7bdc9e",
   "metadata": {},
   "outputs": [
    {
     "ename": "NameError",
     "evalue": "name 'track_art' is not defined",
     "output_type": "error",
     "traceback": [
      "\u001b[1;31m---------------------------------------------------------------------------\u001b[0m",
      "\u001b[1;31mNameError\u001b[0m                                 Traceback (most recent call last)",
      "Cell \u001b[1;32mIn [110], line 6\u001b[0m\n\u001b[0;32m      4\u001b[0m \u001b[38;5;28;01mfor\u001b[39;00m song \u001b[38;5;129;01min\u001b[39;00m tracks:\n\u001b[0;32m      5\u001b[0m     track_selection_list\u001b[38;5;241m.\u001b[39mappend(song[\u001b[38;5;124m'\u001b[39m\u001b[38;5;124muri\u001b[39m\u001b[38;5;124m'\u001b[39m])\n\u001b[1;32m----> 6\u001b[0m     \u001b[43mtrack_art\u001b[49m\u001b[38;5;241m.\u001b[39mappend(song[\u001b[38;5;124m'\u001b[39m\u001b[38;5;124malbum\u001b[39m\u001b[38;5;124m'\u001b[39m][\u001b[38;5;124m'\u001b[39m\u001b[38;5;124mimages\u001b[39m\u001b[38;5;124m'\u001b[39m][\u001b[38;5;241m0\u001b[39m][\u001b[38;5;124m'\u001b[39m\u001b[38;5;124murl\u001b[39m\u001b[38;5;124m'\u001b[39m])\n",
      "\u001b[1;31mNameError\u001b[0m: name 'track_art' is not defined"
     ]
    }
   ],
   "source": [
    "# URI = uniform resource identifier\n",
    "track_selection_list = []\n",
    "\n",
    "for song in tracks:\n",
    "    track_selection_list.append(song['uri'])\n",
    "    track_art.append(song['album']['images'][0]['url'])"
   ]
  },
  {
   "cell_type": "code",
   "execution_count": 111,
   "id": "a81ba300",
   "metadata": {},
   "outputs": [
    {
     "name": "stdout",
     "output_type": "stream",
     "text": [
      "['spotify:track:4Nf5ljEHnktwk6PKOzjGQa']\n"
     ]
    }
   ],
   "source": [
    "print (track_selection_list)"
   ]
  },
  {
   "cell_type": "code",
   "execution_count": 112,
   "id": "efbd0922",
   "metadata": {},
   "outputs": [],
   "source": [
    "my_playlist = sp.user_playlist_create(user=username, name=\"TVShows\", public=True,\n",
    "                                      description=\"Songs for the TV Shows\")\n"
   ]
  },
  {
   "cell_type": "code",
   "execution_count": 113,
   "id": "30e4df69",
   "metadata": {},
   "outputs": [
    {
     "name": "stdout",
     "output_type": "stream",
     "text": [
      "{'collaborative': False, 'description': 'Songs for the TV Shows', 'external_urls': {'spotify': 'https://open.spotify.com/playlist/2VFNK5RJRidWMPm2krbNmP'}, 'followers': {'href': None, 'total': 0}, 'href': 'https://api.spotify.com/v1/playlists/2VFNK5RJRidWMPm2krbNmP', 'id': '2VFNK5RJRidWMPm2krbNmP', 'images': [], 'name': 'TVShows', 'owner': {'display_name': 'moremiarikebajo', 'external_urls': {'spotify': 'https://open.spotify.com/user/ifegal'}, 'href': 'https://api.spotify.com/v1/users/ifegal', 'id': 'ifegal', 'type': 'user', 'uri': 'spotify:user:ifegal'}, 'primary_color': None, 'public': True, 'snapshot_id': 'MSw0NWUyYjU1NjdhNzM0ODkwZjA4NDk1NGQ3YzNkOGU5OWYxMTljZjZj', 'tracks': {'href': 'https://api.spotify.com/v1/playlists/2VFNK5RJRidWMPm2krbNmP/tracks', 'items': [], 'limit': 100, 'next': None, 'offset': 0, 'previous': None, 'total': 0}, 'type': 'playlist', 'uri': 'spotify:playlist:2VFNK5RJRidWMPm2krbNmP'}\n"
     ]
    }
   ],
   "source": [
    "print(my_playlist)"
   ]
  },
  {
   "cell_type": "code",
   "execution_count": 114,
   "id": "53842772",
   "metadata": {},
   "outputs": [
    {
     "name": "stdout",
     "output_type": "stream",
     "text": [
      "{'snapshot_id': 'MywzMWU0ZTEzYWY5NjI4ZDFkNmVjMjIzYzE5Zjc2ZjMyNWEyMzgyZGQ5'}\n"
     ]
    }
   ],
   "source": [
    "results = sp.user_playlist_add_tracks(username, my_playlist['id'], track_selection_list)\n",
    "\n",
    "print(results)"
   ]
  },
  {
   "cell_type": "code",
   "execution_count": null,
   "id": "c59a6bd3",
   "metadata": {},
   "outputs": [],
   "source": []
  },
  {
   "cell_type": "code",
   "execution_count": 115,
   "id": "9cf22ad4",
   "metadata": {},
   "outputs": [
    {
     "data": {
      "text/plain": [
       "True"
      ]
     },
     "execution_count": 115,
     "metadata": {},
     "output_type": "execute_result"
    }
   ],
   "source": [
    "# sp.start_playback(deviceID, None, track_selection_list)\n",
    "webbrowser.open(my_playlist['external_urls']['spotify'])"
   ]
  },
  {
   "cell_type": "code",
   "execution_count": null,
   "id": "3d43d6b8",
   "metadata": {},
   "outputs": [],
   "source": []
  },
  {
   "cell_type": "code",
   "execution_count": null,
   "id": "ed965b7d",
   "metadata": {},
   "outputs": [],
   "source": []
  },
  {
   "cell_type": "code",
   "execution_count": null,
   "id": "eb327bf5",
   "metadata": {},
   "outputs": [],
   "source": []
  }
 ],
 "metadata": {
  "kernelspec": {
   "display_name": "Python 3 (ipykernel)",
   "language": "python",
   "name": "python3"
  },
  "language_info": {
   "codemirror_mode": {
    "name": "ipython",
    "version": 3
   },
   "file_extension": ".py",
   "mimetype": "text/x-python",
   "name": "python",
   "nbconvert_exporter": "python",
   "pygments_lexer": "ipython3",
   "version": "3.11.0"
  }
 },
 "nbformat": 4,
 "nbformat_minor": 5
}
